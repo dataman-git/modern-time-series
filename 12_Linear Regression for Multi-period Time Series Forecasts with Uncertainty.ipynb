{
 "cells": [
  {
   "cell_type": "markdown",
   "metadata": {
    "editable": true,
    "id": "OK-Qe3kwi_7E",
    "slideshow": {
     "slide_type": ""
    },
    "tags": []
   },
   "source": [
    "\n",
    "# Linear regression for time series probabilistic forecasts\n"
   ]
  },
  {
   "cell_type": "markdown",
   "metadata": {
    "id": "tZYoU0fmUHrL"
   },
   "source": [
    "### Installation"
   ]
  },
  {
   "cell_type": "code",
   "execution_count": 1,
   "metadata": {
    "colab": {
     "base_uri": "https://localhost:8080/"
    },
    "executionInfo": {
     "elapsed": 143171,
     "status": "ok",
     "timestamp": 1711649913712,
     "user": {
      "displayName": "Dr. Dataman",
      "userId": "14648496304343042559"
     },
     "user_tz": 240
    },
    "id": "pakDCfeTuB8i",
    "outputId": "d3d2053a-2cb0-446b-d6bc-548f7f65be14"
   },
   "outputs": [],
   "source": [
    "# !pip install pandas numpy matplotlib darts gluonts sktime pmdarima neuralprophet"
   ]
  },
  {
   "cell_type": "code",
   "execution_count": 20,
   "metadata": {
    "executionInfo": {
     "elapsed": 1028,
     "status": "ok",
     "timestamp": 1711649923474,
     "user": {
      "displayName": "Dr. Dataman",
      "userId": "14648496304343042559"
     },
     "user_tz": 240
    },
    "id": "zufX_FGIsuLc"
   },
   "outputs": [],
   "source": [
    "%matplotlib inline\n",
    "import pandas as pd\n",
    "import numpy as np\n",
    "from matplotlib import pyplot as plt"
   ]
  },
  {
   "cell_type": "markdown",
   "metadata": {},
   "source": [
    "#### If you use Google Colab, use the following code"
   ]
  },
  {
   "cell_type": "code",
   "execution_count": 21,
   "metadata": {
    "colab": {
     "base_uri": "https://localhost:8080/",
     "height": 235
    },
    "executionInfo": {
     "elapsed": 392,
     "status": "ok",
     "timestamp": 1711650264264,
     "user": {
      "displayName": "Dr. Dataman",
      "userId": "14648496304343042559"
     },
     "user_tz": 240
    },
    "id": "xjhlUkK4spz7",
    "outputId": "40e1030b-f699-45fd-bd33-a89054f7cfa4"
   },
   "outputs": [],
   "source": [
    "# from google.colab import drive\n",
    "# drive.mount('/content/gdrive')\n",
    "# path = '/content/gdrive/My Drive/data/time_series'\n",
    "# https://www.kaggle.com/datasets/yasserh/walmart-dataset\n",
    "\n",
    "# data = pd.read_csv(path + '/walmart.csv', delimiter=\",\")\n",
    "# data['ds'] = pd.to_datetime(data['Date'], format='%d-%m-%Y')\n",
    "# data.index = data['ds']\n",
    "# data = data.drop('Date', axis=1)\n",
    "# data.head()"
   ]
  },
  {
   "cell_type": "code",
   "execution_count": 22,
   "metadata": {},
   "outputs": [
    {
     "data": {
      "text/html": [
       "<div>\n",
       "<style scoped>\n",
       "    .dataframe tbody tr th:only-of-type {\n",
       "        vertical-align: middle;\n",
       "    }\n",
       "\n",
       "    .dataframe tbody tr th {\n",
       "        vertical-align: top;\n",
       "    }\n",
       "\n",
       "    .dataframe thead th {\n",
       "        text-align: right;\n",
       "    }\n",
       "</style>\n",
       "<table border=\"1\" class=\"dataframe\">\n",
       "  <thead>\n",
       "    <tr style=\"text-align: right;\">\n",
       "      <th></th>\n",
       "      <th>Store</th>\n",
       "      <th>Weekly_Sales</th>\n",
       "      <th>Holiday_Flag</th>\n",
       "      <th>Temperature</th>\n",
       "      <th>Fuel_Price</th>\n",
       "      <th>CPI</th>\n",
       "      <th>Unemployment</th>\n",
       "      <th>ds</th>\n",
       "    </tr>\n",
       "    <tr>\n",
       "      <th>ds</th>\n",
       "      <th></th>\n",
       "      <th></th>\n",
       "      <th></th>\n",
       "      <th></th>\n",
       "      <th></th>\n",
       "      <th></th>\n",
       "      <th></th>\n",
       "      <th></th>\n",
       "    </tr>\n",
       "  </thead>\n",
       "  <tbody>\n",
       "    <tr>\n",
       "      <th>2010-02-05</th>\n",
       "      <td>1</td>\n",
       "      <td>1643690.90</td>\n",
       "      <td>0</td>\n",
       "      <td>42.31</td>\n",
       "      <td>2.572</td>\n",
       "      <td>211.096358</td>\n",
       "      <td>8.106</td>\n",
       "      <td>2010-02-05</td>\n",
       "    </tr>\n",
       "    <tr>\n",
       "      <th>2010-02-12</th>\n",
       "      <td>1</td>\n",
       "      <td>1641957.44</td>\n",
       "      <td>1</td>\n",
       "      <td>38.51</td>\n",
       "      <td>2.548</td>\n",
       "      <td>211.242170</td>\n",
       "      <td>8.106</td>\n",
       "      <td>2010-02-12</td>\n",
       "    </tr>\n",
       "    <tr>\n",
       "      <th>2010-02-19</th>\n",
       "      <td>1</td>\n",
       "      <td>1611968.17</td>\n",
       "      <td>0</td>\n",
       "      <td>39.93</td>\n",
       "      <td>2.514</td>\n",
       "      <td>211.289143</td>\n",
       "      <td>8.106</td>\n",
       "      <td>2010-02-19</td>\n",
       "    </tr>\n",
       "    <tr>\n",
       "      <th>2010-02-26</th>\n",
       "      <td>1</td>\n",
       "      <td>1409727.59</td>\n",
       "      <td>0</td>\n",
       "      <td>46.63</td>\n",
       "      <td>2.561</td>\n",
       "      <td>211.319643</td>\n",
       "      <td>8.106</td>\n",
       "      <td>2010-02-26</td>\n",
       "    </tr>\n",
       "    <tr>\n",
       "      <th>2010-03-05</th>\n",
       "      <td>1</td>\n",
       "      <td>1554806.68</td>\n",
       "      <td>0</td>\n",
       "      <td>46.50</td>\n",
       "      <td>2.625</td>\n",
       "      <td>211.350143</td>\n",
       "      <td>8.106</td>\n",
       "      <td>2010-03-05</td>\n",
       "    </tr>\n",
       "  </tbody>\n",
       "</table>\n",
       "</div>"
      ],
      "text/plain": [
       "            Store  Weekly_Sales  Holiday_Flag  Temperature  Fuel_Price  \\\n",
       "ds                                                                       \n",
       "2010-02-05      1    1643690.90             0        42.31       2.572   \n",
       "2010-02-12      1    1641957.44             1        38.51       2.548   \n",
       "2010-02-19      1    1611968.17             0        39.93       2.514   \n",
       "2010-02-26      1    1409727.59             0        46.63       2.561   \n",
       "2010-03-05      1    1554806.68             0        46.50       2.625   \n",
       "\n",
       "                   CPI  Unemployment         ds  \n",
       "ds                                               \n",
       "2010-02-05  211.096358         8.106 2010-02-05  \n",
       "2010-02-12  211.242170         8.106 2010-02-12  \n",
       "2010-02-19  211.289143         8.106 2010-02-19  \n",
       "2010-02-26  211.319643         8.106 2010-02-26  \n",
       "2010-03-05  211.350143         8.106 2010-03-05  "
      ]
     },
     "execution_count": 22,
     "metadata": {},
     "output_type": "execute_result"
    }
   ],
   "source": [
    "path = '/Users/chriskuo/Downloads/data'\n",
    "data = pd.read_csv(path + '/walmart.csv', delimiter=\",\")\n",
    "data['ds'] = pd.to_datetime(data['Date'], format='%d-%m-%Y')\n",
    "data.index = data['ds']\n",
    "data = data.drop('Date', axis=1)\n",
    "data.head()"
   ]
  },
  {
   "cell_type": "code",
   "execution_count": 23,
   "metadata": {
    "colab": {
     "base_uri": "https://localhost:8080/"
    },
    "executionInfo": {
     "elapsed": 404,
     "status": "ok",
     "timestamp": 1711650276787,
     "user": {
      "displayName": "Dr. Dataman",
      "userId": "14648496304343042559"
     },
     "user_tz": 240
    },
    "id": "uboRtyQgdqB4",
    "outputId": "8b130b83-44b2-47bc-def8-6647ec94e39d"
   },
   "outputs": [
    {
     "data": {
      "text/plain": [
       "Store                    int64\n",
       "Weekly_Sales           float64\n",
       "Holiday_Flag             int64\n",
       "Temperature            float64\n",
       "Fuel_Price             float64\n",
       "CPI                    float64\n",
       "Unemployment           float64\n",
       "ds              datetime64[ns]\n",
       "dtype: object"
      ]
     },
     "execution_count": 23,
     "metadata": {},
     "output_type": "execute_result"
    }
   ],
   "source": [
    "data.dtypes"
   ]
  },
  {
   "cell_type": "markdown",
   "metadata": {
    "id": "0OC6gWSJzdIi"
   },
   "source": [
    "## Darts"
   ]
  },
  {
   "cell_type": "code",
   "execution_count": 24,
   "metadata": {
    "colab": {
     "base_uri": "https://localhost:8080/"
    },
    "executionInfo": {
     "elapsed": 946,
     "status": "ok",
     "timestamp": 1711650555753,
     "user": {
      "displayName": "Dr. Dataman",
      "userId": "14648496304343042559"
     },
     "user_tz": 240
    },
    "id": "8aQmgXy-HCTE",
    "outputId": "198c188d-684b-4887-cb4a-eb1ae92ab3a9"
   },
   "outputs": [
    {
     "name": "stdout",
     "output_type": "stream",
     "text": [
      "The number of groups/stores is: 45\n",
      "The number of time period is:  143\n"
     ]
    }
   ],
   "source": [
    "from darts import TimeSeries\n",
    "darts_group_df = TimeSeries.from_group_dataframe(data, group_cols='Store', time_col='ds')\n",
    "print(\"The number of groups/stores is:\", len(darts_group_df))\n",
    "print(\"The number of time period is: \", len(darts_group_df[0]))"
   ]
  },
  {
   "cell_type": "code",
   "execution_count": 25,
   "metadata": {},
   "outputs": [
    {
     "data": {
      "text/plain": [
       "Index(['Weekly_Sales', 'Holiday_Flag', 'Temperature', 'Fuel_Price', 'CPI',\n",
       "       'Unemployment'],\n",
       "      dtype='object', name='component')"
      ]
     },
     "execution_count": 25,
     "metadata": {},
     "output_type": "execute_result"
    }
   ],
   "source": [
    "darts_group_df[0].components"
   ]
  },
  {
   "cell_type": "code",
   "execution_count": 26,
   "metadata": {},
   "outputs": [
    {
     "data": {
      "text/plain": [
       "(130, 13)"
      ]
     },
     "execution_count": 26,
     "metadata": {},
     "output_type": "execute_result"
    }
   ],
   "source": [
    "store1 = darts_group_df[0]\n",
    "train = store1[:130]\n",
    "test = store1[130:]\n",
    "len(train), len(test) # (130, 13)"
   ]
  },
  {
   "cell_type": "code",
   "execution_count": 27,
   "metadata": {},
   "outputs": [],
   "source": [
    "target = train['Weekly_Sales']\n",
    "past_cov = train[['Fuel_Price','CPI']]\n",
    "future_cov = store1['Holiday_Flag'][:143] "
   ]
  },
  {
   "cell_type": "markdown",
   "metadata": {},
   "source": [
    "### Target only, no covariates\n",
    "- lags – Lagged target series values used to predict the next time step/s"
   ]
  },
  {
   "cell_type": "code",
   "execution_count": 28,
   "metadata": {},
   "outputs": [
    {
     "data": {
      "text/plain": [
       "array([[1614776.88276074],\n",
       "       [1495528.54391639],\n",
       "       [1534813.43578372],\n",
       "       [1560262.66213467],\n",
       "       [1606824.32357539],\n",
       "       [1577824.62885009],\n",
       "       [1555804.15138195],\n",
       "       [1560071.35179605],\n",
       "       [1571818.55034631],\n",
       "       [1570541.81547509],\n",
       "       [1554062.56036279]])"
      ]
     },
     "execution_count": 28,
     "metadata": {},
     "output_type": "execute_result"
    }
   ],
   "source": [
    "from darts.models import LinearRegressionModel\n",
    "n = 11\n",
    "model = LinearRegressionModel(\n",
    "    lags=12\n",
    ")\n",
    "model.fit(target)\n",
    "pred = model.predict(n)\n",
    "pred.values()"
   ]
  },
  {
   "cell_type": "code",
   "execution_count": 29,
   "metadata": {},
   "outputs": [
    {
     "data": {
      "image/png": "[encoded data removed]",
      "text/plain": [
       "<Figure size 640x480 with 1 Axes>"
      ]
     },
     "metadata": {},
     "output_type": "display_data"
    }
   ],
   "source": [
    "import matplotlib.pyplot as plt\n",
    "target.plot(label = 'train')\n",
    "pred.plot(label = 'prediction')\n",
    "test['Weekly_Sales'][:n].plot(label = 'actual')\n",
    "plt.show()"
   ]
  },
  {
   "cell_type": "code",
   "execution_count": 30,
   "metadata": {},
   "outputs": [
    {
     "data": {
      "text/plain": [
       "(63404.82928050464, 4.0701264031900335)"
      ]
     },
     "execution_count": 30,
     "metadata": {},
     "output_type": "execute_result"
    }
   ],
   "source": [
    "from darts.metrics.metrics import mae, mape\n",
    "mae(test['Weekly_Sales'][:n], pred), mape(test['Weekly_Sales'][:n], pred)"
   ]
  },
  {
   "cell_type": "markdown",
   "metadata": {},
   "source": [
    "### With past and future covariates\n",
    "- **lags_past_covariates** – Lagged past_covariates values used to predict the next time step/s.\n",
    "- **lags_future_covariates** – Lagged future_covariates values used to predict the next time step/s.\n",
    "- Let's explain lags_future_covariates:\n",
    "    - **Future Covariates** - Covariates are additional variables, other than the target variable, that are used as features in a time series forecasting model. These covariates may provide additional information that can help improve the accuracy of forecasts. \"Future covariates\" refer to the values of these covariates at future time steps that are available for forecasting.\n",
    "    - **Lagged Values** - \"Lagged\" values refer to the values of a variable (in this case, the future covariates) from previous time steps. Lagged values are often used in time series forecasting to capture temporal dependencies and patterns in the data. For example, if you're forecasting the value of a variable at time t, the lagged values of the covariates could be their values at time t-1, t-2, and so on.\n",
    "    - So this means that for each time step in the future, the model considers the values of the covariates at previous time steps as features. It's \"lagged\" because it uses past values of the covariates, but it's \"future\" because it considers these lagged values for future time steps when making forecasts. This approach allows the model to incorporate both past information and future covariate values to make predictions, potentially capturing complex temporal relationships in the data.\n",
    "- **n** - the forecast horizon for n periods in predict()\n",
    "- **output_chunk_length** – Number of time steps predicted at once (per chunk) by the internal model.\n",
    "    - It is important that n <= output_chunk_length to prevent auto-regression.\n",
    "    - **Chunk-Based Prediction**: When making forecasts for a time series, the internal model may predict multiple future time steps simultaneously. Instead of predicting one time step at a time, the model can predict several consecutive time steps together. This approach is known as chunk-based prediction.\n",
    "    - **Output Chunk Length**: The `output_chunk_length` parameter determines the number of time steps that the model predicts together in each chunk. For example, if `output_chunk_length` is set to 5, the model will predict the next 5 time steps at once. This means that instead of predicting just the next time step, the model predicts several future time steps in one go.\n",
    "    - Chunk-based prediction can improve the efficiency of forecasting, especially when dealing with long time series or when using complex models. By predicting multiple time steps at once, the model can exploit temporal dependencies more effectively and potentially improve forecasting accuracy. Additionally, chunk-based prediction can reduce the computational overhead associated with making individual predictions for each time step.\n",
    " \n",
    "- **multi_models** – If True, a separate model will be trained for each future lag to predict. If False, a single model is trained to predict at step ‘output_chunk_length’ in the future. Default: True."
   ]
  },
  {
   "cell_type": "code",
   "execution_count": 31,
   "metadata": {},
   "outputs": [
    {
     "data": {
      "text/plain": [
       "array([[1701316.86089711],\n",
       "       [1518461.82062449],\n",
       "       [1534248.83046706],\n",
       "       [1603205.75886297],\n",
       "       [1874920.5915496 ],\n",
       "       [1803856.24294633],\n",
       "       [1767518.21012607],\n",
       "       [1512584.36014633],\n",
       "       [1697662.46118328],\n",
       "       [1759681.91426228],\n",
       "       [1524124.60537078],\n",
       "       [1476424.91131065]])"
      ]
     },
     "execution_count": 31,
     "metadata": {},
     "output_type": "execute_result"
    }
   ],
   "source": [
    "from darts.models import LinearRegressionModel\n",
    "n = 12\n",
    "model = LinearRegressionModel(\n",
    "    lags=12,\n",
    "    lags_past_covariates=12,\n",
    "    lags_future_covariates=[0,1,2,3,4,5,6,7,8,9,10,11,12],\n",
    "    output_chunk_length=12,\n",
    ")\n",
    "model.fit(target, past_covariates=past_cov, future_covariates=future_cov)\n",
    "pred = model.predict(n)\n",
    "pred.values()"
   ]
  },
  {
   "cell_type": "code",
   "execution_count": 32,
   "metadata": {},
   "outputs": [
    {
     "data": {
      "image/png": "[encoded data removed]",
      "text/plain": [
       "<Figure size 640x480 with 1 Axes>"
      ]
     },
     "metadata": {},
     "output_type": "display_data"
    }
   ],
   "source": [
    "import matplotlib.pyplot as plt\n",
    "target.plot(label = 'train')\n",
    "pred.plot(label = 'prediction')\n",
    "test['Weekly_Sales'][:n].plot(label = 'actual')\n",
    "plt.show()"
   ]
  },
  {
   "cell_type": "code",
   "execution_count": 33,
   "metadata": {},
   "outputs": [
    {
     "data": {
      "text/plain": [
       "(119866.39768341555, 7.73864365602376)"
      ]
     },
     "execution_count": 33,
     "metadata": {},
     "output_type": "execute_result"
    }
   ],
   "source": [
    "mae(test['Weekly_Sales'][:n], pred), mape(test['Weekly_Sales'][:n], pred)"
   ]
  },
  {
   "cell_type": "markdown",
   "metadata": {},
   "source": [
    "### Quantile regression"
   ]
  },
  {
   "cell_type": "code",
   "execution_count": 34,
   "metadata": {},
   "outputs": [
    {
     "data": {
      "text/html": [
       "<div><svg style=\"position: absolute; width: 0; height: 0; overflow: hidden\">\n",
       "<defs>\n",
       "<symbol id=\"icon-database\" viewBox=\"0 0 32 32\">\n",
       "<path d=\"M16 0c-8.837 0-16 2.239-16 5v4c0 2.761 7.163 5 16 5s16-2.239 16-5v-4c0-2.761-7.163-5-16-5z\"></path>\n",
       "<path d=\"M16 17c-8.837 0-16-2.239-16-5v6c0 2.761 7.163 5 16 5s16-2.239 16-5v-6c0 2.761-7.163 5-16 5z\"></path>\n",
       "<path d=\"M16 26c-8.837 0-16-2.239-16-5v6c0 2.761 7.163 5 16 5s16-2.239 16-5v-6c0 2.761-7.163 5-16 5z\"></path>\n",
       "</symbol>\n",
       "<symbol id=\"icon-file-text2\" viewBox=\"0 0 32 32\">\n",
       "<path d=\"M28.681 7.159c-0.694-0.947-1.662-2.053-2.724-3.116s-2.169-2.030-3.116-2.724c-1.612-1.182-2.393-1.319-2.841-1.319h-15.5c-1.378 0-2.5 1.121-2.5 2.5v27c0 1.378 1.122 2.5 2.5 2.5h23c1.378 0 2.5-1.122 2.5-2.5v-19.5c0-0.448-0.137-1.23-1.319-2.841zM24.543 5.457c0.959 0.959 1.712 1.825 2.268 2.543h-4.811v-4.811c0.718 0.556 1.584 1.309 2.543 2.268zM28 29.5c0 0.271-0.229 0.5-0.5 0.5h-23c-0.271 0-0.5-0.229-0.5-0.5v-27c0-0.271 0.229-0.5 0.5-0.5 0 0 15.499-0 15.5 0v7c0 0.552 0.448 1 1 1h7v19.5z\"></path>\n",
       "<path d=\"M23 26h-14c-0.552 0-1-0.448-1-1s0.448-1 1-1h14c0.552 0 1 0.448 1 1s-0.448 1-1 1z\"></path>\n",
       "<path d=\"M23 22h-14c-0.552 0-1-0.448-1-1s0.448-1 1-1h14c0.552 0 1 0.448 1 1s-0.448 1-1 1z\"></path>\n",
       "<path d=\"M23 18h-14c-0.552 0-1-0.448-1-1s0.448-1 1-1h14c0.552 0 1 0.448 1 1s-0.448 1-1 1z\"></path>\n",
       "</symbol>\n",
       "</defs>\n",
       "</svg>\n",
       "<style>/* CSS stylesheet for displaying xarray objects in jupyterlab.\n",
       " *\n",
       " */\n",
       "\n",
       ":root {\n",
       "  --xr-font-color0: var(--jp-content-font-color0, rgba(0, 0, 0, 1));\n",
       "  --xr-font-color2: var(--jp-content-font-color2, rgba(0, 0, 0, 0.54));\n",
       "  --xr-font-color3: var(--jp-content-font-color3, rgba(0, 0, 0, 0.38));\n",
       "  --xr-border-color: var(--jp-border-color2, #e0e0e0);\n",
       "  --xr-disabled-color: var(--jp-layout-color3, #bdbdbd);\n",
       "  --xr-background-color: var(--jp-layout-color0, white);\n",
       "  --xr-background-color-row-even: var(--jp-layout-color1, white);\n",
       "  --xr-background-color-row-odd: var(--jp-layout-color2, #eeeeee);\n",
       "}\n",
       "\n",
       "html[theme=\"dark\"],\n",
       "html[data-theme=\"dark\"],\n",
       "body[data-theme=\"dark\"],\n",
       "body.vscode-dark {\n",
       "  --xr-font-color0: rgba(255, 255, 255, 1);\n",
       "  --xr-font-color2: rgba(255, 255, 255, 0.54);\n",
       "  --xr-font-color3: rgba(255, 255, 255, 0.38);\n",
       "  --xr-border-color: #1f1f1f;\n",
       "  --xr-disabled-color: #515151;\n",
       "  --xr-background-color: #111111;\n",
       "  --xr-background-color-row-even: #111111;\n",
       "  --xr-background-color-row-odd: #313131;\n",
       "}\n",
       "\n",
       ".xr-wrap {\n",
       "  display: block !important;\n",
       "  min-width: 300px;\n",
       "  max-width: 700px;\n",
       "}\n",
       "\n",
       ".xr-text-repr-fallback {\n",
       "  /* fallback to plain text repr when CSS is not injected (untrusted notebook) */\n",
       "  display: none;\n",
       "}\n",
       "\n",
       ".xr-header {\n",
       "  padding-top: 6px;\n",
       "  padding-bottom: 6px;\n",
       "  margin-bottom: 4px;\n",
       "  border-bottom: solid 1px var(--xr-border-color);\n",
       "}\n",
       "\n",
       ".xr-header > div,\n",
       ".xr-header > ul {\n",
       "  display: inline;\n",
       "  margin-top: 0;\n",
       "  margin-bottom: 0;\n",
       "}\n",
       "\n",
       ".xr-obj-type,\n",
       ".xr-array-name {\n",
       "  margin-left: 2px;\n",
       "  margin-right: 10px;\n",
       "}\n",
       "\n",
       ".xr-obj-type {\n",
       "  color: var(--xr-font-color2);\n",
       "}\n",
       "\n",
       ".xr-sections {\n",
       "  padding-left: 0 !important;\n",
       "  display: grid;\n",
       "  grid-template-columns: 150px auto auto 1fr 0 20px 0 20px;\n",
       "}\n",
       "\n",
       ".xr-section-item {\n",
       "  display: contents;\n",
       "}\n",
       "\n",
       ".xr-section-item input {\n",
       "  display: inline-block;\n",
       "  opacity: 0;\n",
       "  height: 0;\n",
       "}\n",
       "\n",
       ".xr-section-item input + label {\n",
       "  color: var(--xr-disabled-color);\n",
       "}\n",
       "\n",
       ".xr-section-item input:enabled + label {\n",
       "  cursor: pointer;\n",
       "  color: var(--xr-font-color2);\n",
       "}\n",
       "\n",
       ".xr-section-item input:focus + label {\n",
       "  border: 2px solid var(--xr-font-color0);\n",
       "}\n",
       "\n",
       ".xr-section-item input:enabled + label:hover {\n",
       "  color: var(--xr-font-color0);\n",
       "}\n",
       "\n",
       ".xr-section-summary {\n",
       "  grid-column: 1;\n",
       "  color: var(--xr-font-color2);\n",
       "  font-weight: 500;\n",
       "}\n",
       "\n",
       ".xr-section-summary > span {\n",
       "  display: inline-block;\n",
       "  padding-left: 0.5em;\n",
       "}\n",
       "\n",
       ".xr-section-summary-in:disabled + label {\n",
       "  color: var(--xr-font-color2);\n",
       "}\n",
       "\n",
       ".xr-section-summary-in + label:before {\n",
       "  display: inline-block;\n",
       "  content: \"►\";\n",
       "  font-size: 11px;\n",
       "  width: 15px;\n",
       "  text-align: center;\n",
       "}\n",
       "\n",
       ".xr-section-summary-in:disabled + label:before {\n",
       "  color: var(--xr-disabled-color);\n",
       "}\n",
       "\n",
       ".xr-section-summary-in:checked + label:before {\n",
       "  content: \"▼\";\n",
       "}\n",
       "\n",
       ".xr-section-summary-in:checked + label > span {\n",
       "  display: none;\n",
       "}\n",
       "\n",
       ".xr-section-summary,\n",
       ".xr-section-inline-details {\n",
       "  padding-top: 4px;\n",
       "  padding-bottom: 4px;\n",
       "}\n",
       "\n",
       ".xr-section-inline-details {\n",
       "  grid-column: 2 / -1;\n",
       "}\n",
       "\n",
       ".xr-section-details {\n",
       "  display: none;\n",
       "  grid-column: 1 / -1;\n",
       "  margin-bottom: 5px;\n",
       "}\n",
       "\n",
       ".xr-section-summary-in:checked ~ .xr-section-details {\n",
       "  display: contents;\n",
       "}\n",
       "\n",
       ".xr-array-wrap {\n",
       "  grid-column: 1 / -1;\n",
       "  display: grid;\n",
       "  grid-template-columns: 20px auto;\n",
       "}\n",
       "\n",
       ".xr-array-wrap > label {\n",
       "  grid-column: 1;\n",
       "  vertical-align: top;\n",
       "}\n",
       "\n",
       ".xr-preview {\n",
       "  color: var(--xr-font-color3);\n",
       "}\n",
       "\n",
       ".xr-array-preview,\n",
       ".xr-array-data {\n",
       "  padding: 0 5px !important;\n",
       "  grid-column: 2;\n",
       "}\n",
       "\n",
       ".xr-array-data,\n",
       ".xr-array-in:checked ~ .xr-array-preview {\n",
       "  display: none;\n",
       "}\n",
       "\n",
       ".xr-array-in:checked ~ .xr-array-data,\n",
       ".xr-array-preview {\n",
       "  display: inline-block;\n",
       "}\n",
       "\n",
       ".xr-dim-list {\n",
       "  display: inline-block !important;\n",
       "  list-style: none;\n",
       "  padding: 0 !important;\n",
       "  margin: 0;\n",
       "}\n",
       "\n",
       ".xr-dim-list li {\n",
       "  display: inline-block;\n",
       "  padding: 0;\n",
       "  margin: 0;\n",
       "}\n",
       "\n",
       ".xr-dim-list:before {\n",
       "  content: \"(\";\n",
       "}\n",
       "\n",
       ".xr-dim-list:after {\n",
       "  content: \")\";\n",
       "}\n",
       "\n",
       ".xr-dim-list li:not(:last-child):after {\n",
       "  content: \",\";\n",
       "  padding-right: 5px;\n",
       "}\n",
       "\n",
       ".xr-has-index {\n",
       "  font-weight: bold;\n",
       "}\n",
       "\n",
       ".xr-var-list,\n",
       ".xr-var-item {\n",
       "  display: contents;\n",
       "}\n",
       "\n",
       ".xr-var-item > div,\n",
       ".xr-var-item label,\n",
       ".xr-var-item > .xr-var-name span {\n",
       "  background-color: var(--xr-background-color-row-even);\n",
       "  margin-bottom: 0;\n",
       "}\n",
       "\n",
       ".xr-var-item > .xr-var-name:hover span {\n",
       "  padding-right: 5px;\n",
       "}\n",
       "\n",
       ".xr-var-list > li:nth-child(odd) > div,\n",
       ".xr-var-list > li:nth-child(odd) > label,\n",
       ".xr-var-list > li:nth-child(odd) > .xr-var-name span {\n",
       "  background-color: var(--xr-background-color-row-odd);\n",
       "}\n",
       "\n",
       ".xr-var-name {\n",
       "  grid-column: 1;\n",
       "}\n",
       "\n",
       ".xr-var-dims {\n",
       "  grid-column: 2;\n",
       "}\n",
       "\n",
       ".xr-var-dtype {\n",
       "  grid-column: 3;\n",
       "  text-align: right;\n",
       "  color: var(--xr-font-color2);\n",
       "}\n",
       "\n",
       ".xr-var-preview {\n",
       "  grid-column: 4;\n",
       "}\n",
       "\n",
       ".xr-index-preview {\n",
       "  grid-column: 2 / 5;\n",
       "  color: var(--xr-font-color2);\n",
       "}\n",
       "\n",
       ".xr-var-name,\n",
       ".xr-var-dims,\n",
       ".xr-var-dtype,\n",
       ".xr-preview,\n",
       ".xr-attrs dt {\n",
       "  white-space: nowrap;\n",
       "  overflow: hidden;\n",
       "  text-overflow: ellipsis;\n",
       "  padding-right: 10px;\n",
       "}\n",
       "\n",
       ".xr-var-name:hover,\n",
       ".xr-var-dims:hover,\n",
       ".xr-var-dtype:hover,\n",
       ".xr-attrs dt:hover {\n",
       "  overflow: visible;\n",
       "  width: auto;\n",
       "  z-index: 1;\n",
       "}\n",
       "\n",
       ".xr-var-attrs,\n",
       ".xr-var-data,\n",
       ".xr-index-data {\n",
       "  display: none;\n",
       "  background-color: var(--xr-background-color) !important;\n",
       "  padding-bottom: 5px !important;\n",
       "}\n",
       "\n",
       ".xr-var-attrs-in:checked ~ .xr-var-attrs,\n",
       ".xr-var-data-in:checked ~ .xr-var-data,\n",
       ".xr-index-data-in:checked ~ .xr-index-data {\n",
       "  display: block;\n",
       "}\n",
       "\n",
       ".xr-var-data > table {\n",
       "  float: right;\n",
       "}\n",
       "\n",
       ".xr-var-name span,\n",
       ".xr-var-data,\n",
       ".xr-index-name div,\n",
       ".xr-index-data,\n",
       ".xr-attrs {\n",
       "  padding-left: 25px !important;\n",
       "}\n",
       "\n",
       ".xr-attrs,\n",
       ".xr-var-attrs,\n",
       ".xr-var-data,\n",
       ".xr-index-data {\n",
       "  grid-column: 1 / -1;\n",
       "}\n",
       "\n",
       "dl.xr-attrs {\n",
       "  padding: 0;\n",
       "  margin: 0;\n",
       "  display: grid;\n",
       "  grid-template-columns: 125px auto;\n",
       "}\n",
       "\n",
       ".xr-attrs dt,\n",
       ".xr-attrs dd {\n",
       "  padding: 0;\n",
       "  margin: 0;\n",
       "  float: left;\n",
       "  padding-right: 10px;\n",
       "  width: auto;\n",
       "}\n",
       "\n",
       ".xr-attrs dt {\n",
       "  font-weight: normal;\n",
       "  grid-column: 1;\n",
       "}\n",
       "\n",
       ".xr-attrs dt:hover span {\n",
       "  display: inline-block;\n",
       "  background: var(--xr-background-color);\n",
       "  padding-right: 10px;\n",
       "}\n",
       "\n",
       ".xr-attrs dd {\n",
       "  grid-column: 2;\n",
       "  white-space: pre-wrap;\n",
       "  word-break: break-all;\n",
       "}\n",
       "\n",
       ".xr-icon-database,\n",
       ".xr-icon-file-text2,\n",
       ".xr-no-icon {\n",
       "  display: inline-block;\n",
       "  vertical-align: middle;\n",
       "  width: 1em;\n",
       "  height: 1.5em !important;\n",
       "  stroke-width: 0;\n",
       "  stroke: currentColor;\n",
       "  fill: currentColor;\n",
       "}\n",
       "</style><pre class='xr-text-repr-fallback'>&lt;TimeSeries (DataArray) (ds: 12, component: 1, sample: 5)&gt; Size: 480B\n",
       "array([[[1715440.58387872, 1708103.44185039, 1680733.11229136,\n",
       "         1688211.32575402, 1396740.41068288]],\n",
       "\n",
       "       [[1564802.30804958, 1568145.52058117, 1557674.55713966,\n",
       "         1596725.44648465, 1477697.43272565]],\n",
       "\n",
       "       [[1579297.12103659, 1614869.229625  , 1663220.3527811 ,\n",
       "         1658208.86683736, 1452802.01470499]],\n",
       "\n",
       "       [[1968104.45689803, 1447804.22657231, 1468090.83862596,\n",
       "         1465777.84098301, 1522808.83949796]],\n",
       "\n",
       "       [[1571579.50832923, 1557442.40259783, 1640241.5402226 ,\n",
       "         1681724.93953497, 1521005.27012366]],\n",
       "\n",
       "       [[1630625.33518795, 1660038.48270712, 1731163.98486096,\n",
       "         1629809.31712745, 1495833.75369948]],\n",
       "\n",
       "       [[1672174.99263243, 1727023.29094704, 1611103.61528959,\n",
       "         1541514.21883127, 1826490.04996076]],\n",
       "\n",
       "       [[1725667.6310603 , 1824768.788071  , 1339574.07730804,\n",
       "         1448515.45841893, 1351289.28782354]],\n",
       "\n",
       "       [[1491501.69172756, 1525913.72872744, 1507947.19907892,\n",
       "         1758879.98788675, 2184992.14116348]],\n",
       "\n",
       "       [[1568152.0991566 , 1621286.91762596, 1714096.58985565,\n",
       "         1411724.27540341, 1715748.31185714]],\n",
       "\n",
       "       [[1506059.17031672, 1471074.82968402, 1538194.46655983,\n",
       "         1449843.09625347, 1473405.42838597]],\n",
       "\n",
       "       [[1658185.82636899, 1425814.32986393, 1436535.93762307,\n",
       "         1861129.18908804, 1552361.71830155]]])\n",
       "Coordinates:\n",
       "  * ds         (ds) datetime64[ns] 96B 2012-08-03 2012-08-10 ... 2012-10-19\n",
       "  * component  (component) object 8B &#x27;Weekly_Sales&#x27;\n",
       "Dimensions without coordinates: sample\n",
       "Attributes:\n",
       "    static_covariates:  static_covariates  Store\\ncomponent               \\nW...\n",
       "    hierarchy:          None\n",
       "    metadata:           None</pre><div class='xr-wrap' style='display:none'><div class='xr-header'><div class='xr-obj-type'>TimeSeries (DataArray)</div><div class='xr-array-name'></div><ul class='xr-dim-list'><li><span class='xr-has-index'>ds</span>: 12</li><li><span class='xr-has-index'>component</span>: 1</li><li><span>sample</span>: 5</li></ul></div><ul class='xr-sections'><li class='xr-section-item'><div class='xr-array-wrap'><input id='section-d505d918-ef5b-4ca5-b7b7-ff38c73fd14a' class='xr-array-in' type='checkbox' checked><label for='section-d505d918-ef5b-4ca5-b7b7-ff38c73fd14a' title='Show/hide data repr'><svg class='icon xr-icon-database'><use xlink:href='#icon-database'></use></svg></label><div class='xr-array-preview xr-preview'><span>1.715e+06 1.708e+06 1.681e+06 ... 1.437e+06 1.861e+06 1.552e+06</span></div><div class='xr-array-data'><pre>array([[[1715440.58387872, 1708103.44185039, 1680733.11229136,\n",
       "         1688211.32575402, 1396740.41068288]],\n",
       "\n",
       "       [[1564802.30804958, 1568145.52058117, 1557674.55713966,\n",
       "         1596725.44648465, 1477697.43272565]],\n",
       "\n",
       "       [[1579297.12103659, 1614869.229625  , 1663220.3527811 ,\n",
       "         1658208.86683736, 1452802.01470499]],\n",
       "\n",
       "       [[1968104.45689803, 1447804.22657231, 1468090.83862596,\n",
       "         1465777.84098301, 1522808.83949796]],\n",
       "\n",
       "       [[1571579.50832923, 1557442.40259783, 1640241.5402226 ,\n",
       "         1681724.93953497, 1521005.27012366]],\n",
       "\n",
       "       [[1630625.33518795, 1660038.48270712, 1731163.98486096,\n",
       "         1629809.31712745, 1495833.75369948]],\n",
       "\n",
       "       [[1672174.99263243, 1727023.29094704, 1611103.61528959,\n",
       "         1541514.21883127, 1826490.04996076]],\n",
       "\n",
       "       [[1725667.6310603 , 1824768.788071  , 1339574.07730804,\n",
       "         1448515.45841893, 1351289.28782354]],\n",
       "\n",
       "       [[1491501.69172756, 1525913.72872744, 1507947.19907892,\n",
       "         1758879.98788675, 2184992.14116348]],\n",
       "\n",
       "       [[1568152.0991566 , 1621286.91762596, 1714096.58985565,\n",
       "         1411724.27540341, 1715748.31185714]],\n",
       "\n",
       "       [[1506059.17031672, 1471074.82968402, 1538194.46655983,\n",
       "         1449843.09625347, 1473405.42838597]],\n",
       "\n",
       "       [[1658185.82636899, 1425814.32986393, 1436535.93762307,\n",
       "         1861129.18908804, 1552361.71830155]]])</pre></div></div></li><li class='xr-section-item'><input id='section-846b94f1-2a3c-473b-9fcb-b35ffb99553c' class='xr-section-summary-in' type='checkbox'  checked><label for='section-846b94f1-2a3c-473b-9fcb-b35ffb99553c' class='xr-section-summary' >Coordinates: <span>(2)</span></label><div class='xr-section-inline-details'></div><div class='xr-section-details'><ul class='xr-var-list'><li class='xr-var-item'><div class='xr-var-name'><span class='xr-has-index'>ds</span></div><div class='xr-var-dims'>(ds)</div><div class='xr-var-dtype'>datetime64[ns]</div><div class='xr-var-preview xr-preview'>2012-08-03 ... 2012-10-19</div><input id='attrs-223b3f15-8a97-496e-9af6-e1bef23a4745' class='xr-var-attrs-in' type='checkbox' disabled><label for='attrs-223b3f15-8a97-496e-9af6-e1bef23a4745' title='Show/Hide attributes'><svg class='icon xr-icon-file-text2'><use xlink:href='#icon-file-text2'></use></svg></label><input id='data-905fe978-1209-4f60-8ca5-e318b84b35cf' class='xr-var-data-in' type='checkbox'><label for='data-905fe978-1209-4f60-8ca5-e318b84b35cf' title='Show/Hide data repr'><svg class='icon xr-icon-database'><use xlink:href='#icon-database'></use></svg></label><div class='xr-var-attrs'><dl class='xr-attrs'></dl></div><div class='xr-var-data'><pre>array([&#x27;2012-08-03T00:00:00.000000000&#x27;, &#x27;2012-08-10T00:00:00.000000000&#x27;,\n",
       "       &#x27;2012-08-17T00:00:00.000000000&#x27;, &#x27;2012-08-24T00:00:00.000000000&#x27;,\n",
       "       &#x27;2012-08-31T00:00:00.000000000&#x27;, &#x27;2012-09-07T00:00:00.000000000&#x27;,\n",
       "       &#x27;2012-09-14T00:00:00.000000000&#x27;, &#x27;2012-09-21T00:00:00.000000000&#x27;,\n",
       "       &#x27;2012-09-28T00:00:00.000000000&#x27;, &#x27;2012-10-05T00:00:00.000000000&#x27;,\n",
       "       &#x27;2012-10-12T00:00:00.000000000&#x27;, &#x27;2012-10-19T00:00:00.000000000&#x27;],\n",
       "      dtype=&#x27;datetime64[ns]&#x27;)</pre></div></li><li class='xr-var-item'><div class='xr-var-name'><span class='xr-has-index'>component</span></div><div class='xr-var-dims'>(component)</div><div class='xr-var-dtype'>object</div><div class='xr-var-preview xr-preview'>&#x27;Weekly_Sales&#x27;</div><input id='attrs-e46ff5a0-748f-4243-bd85-f3a384a0251f' class='xr-var-attrs-in' type='checkbox' disabled><label for='attrs-e46ff5a0-748f-4243-bd85-f3a384a0251f' title='Show/Hide attributes'><svg class='icon xr-icon-file-text2'><use xlink:href='#icon-file-text2'></use></svg></label><input id='data-27f6134a-2d11-4ee1-bab8-ab1bb04b203f' class='xr-var-data-in' type='checkbox'><label for='data-27f6134a-2d11-4ee1-bab8-ab1bb04b203f' title='Show/Hide data repr'><svg class='icon xr-icon-database'><use xlink:href='#icon-database'></use></svg></label><div class='xr-var-attrs'><dl class='xr-attrs'></dl></div><div class='xr-var-data'><pre>array([&#x27;Weekly_Sales&#x27;], dtype=object)</pre></div></li></ul></div></li><li class='xr-section-item'><input id='section-706505d4-f503-4707-91c1-bc16b25d4df3' class='xr-section-summary-in' type='checkbox'  ><label for='section-706505d4-f503-4707-91c1-bc16b25d4df3' class='xr-section-summary' >Indexes: <span>(2)</span></label><div class='xr-section-inline-details'></div><div class='xr-section-details'><ul class='xr-var-list'><li class='xr-var-item'><div class='xr-index-name'><div>ds</div></div><div class='xr-index-preview'>PandasIndex</div><input type='checkbox' disabled/><label></label><input id='index-19859790-5d18-48af-840f-2d06089eeb3c' class='xr-index-data-in' type='checkbox'/><label for='index-19859790-5d18-48af-840f-2d06089eeb3c' title='Show/Hide index repr'><svg class='icon xr-icon-database'><use xlink:href='#icon-database'></use></svg></label><div class='xr-index-data'><pre>PandasIndex(DatetimeIndex([&#x27;2012-08-03&#x27;, &#x27;2012-08-10&#x27;, &#x27;2012-08-17&#x27;, &#x27;2012-08-24&#x27;,\n",
       "               &#x27;2012-08-31&#x27;, &#x27;2012-09-07&#x27;, &#x27;2012-09-14&#x27;, &#x27;2012-09-21&#x27;,\n",
       "               &#x27;2012-09-28&#x27;, &#x27;2012-10-05&#x27;, &#x27;2012-10-12&#x27;, &#x27;2012-10-19&#x27;],\n",
       "              dtype=&#x27;datetime64[ns]&#x27;, name=&#x27;ds&#x27;, freq=&#x27;W-FRI&#x27;))</pre></div></li><li class='xr-var-item'><div class='xr-index-name'><div>component</div></div><div class='xr-index-preview'>PandasIndex</div><input type='checkbox' disabled/><label></label><input id='index-a95f296e-a40f-4fe9-818a-41ebf1d6c73b' class='xr-index-data-in' type='checkbox'/><label for='index-a95f296e-a40f-4fe9-818a-41ebf1d6c73b' title='Show/Hide index repr'><svg class='icon xr-icon-database'><use xlink:href='#icon-database'></use></svg></label><div class='xr-index-data'><pre>PandasIndex(Index([&#x27;Weekly_Sales&#x27;], dtype=&#x27;object&#x27;, name=&#x27;component&#x27;))</pre></div></li></ul></div></li><li class='xr-section-item'><input id='section-1a98d1ed-20d0-45c1-b988-8a3e0f00e596' class='xr-section-summary-in' type='checkbox'  checked><label for='section-1a98d1ed-20d0-45c1-b988-8a3e0f00e596' class='xr-section-summary' >Attributes: <span>(3)</span></label><div class='xr-section-inline-details'></div><div class='xr-section-details'><dl class='xr-attrs'><dt><span>static_covariates :</span></dt><dd>static_covariates  Store\n",
       "component               \n",
       "Weekly_Sales         1.0</dd><dt><span>hierarchy :</span></dt><dd>None</dd><dt><span>metadata :</span></dt><dd>None</dd></dl></div></li></ul></div></div>"
      ],
      "text/plain": [
       "<TimeSeries (DataArray) (ds: 12, component: 1, sample: 5)> Size: 480B\n",
       "array([[[1715440.58387872, 1708103.44185039, 1680733.11229136,\n",
       "         1688211.32575402, 1396740.41068288]],\n",
       "\n",
       "       [[1564802.30804958, 1568145.52058117, 1557674.55713966,\n",
       "         1596725.44648465, 1477697.43272565]],\n",
       "\n",
       "       [[1579297.12103659, 1614869.229625  , 1663220.3527811 ,\n",
       "         1658208.86683736, 1452802.01470499]],\n",
       "\n",
       "       [[1968104.45689803, 1447804.22657231, 1468090.83862596,\n",
       "         1465777.84098301, 1522808.83949796]],\n",
       "\n",
       "       [[1571579.50832923, 1557442.40259783, 1640241.5402226 ,\n",
       "         1681724.93953497, 1521005.27012366]],\n",
       "\n",
       "       [[1630625.33518795, 1660038.48270712, 1731163.98486096,\n",
       "         1629809.31712745, 1495833.75369948]],\n",
       "\n",
       "       [[1672174.99263243, 1727023.29094704, 1611103.61528959,\n",
       "         1541514.21883127, 1826490.04996076]],\n",
       "\n",
       "       [[1725667.6310603 , 1824768.788071  , 1339574.07730804,\n",
       "         1448515.45841893, 1351289.28782354]],\n",
       "\n",
       "       [[1491501.69172756, 1525913.72872744, 1507947.19907892,\n",
       "         1758879.98788675, 2184992.14116348]],\n",
       "\n",
       "       [[1568152.0991566 , 1621286.91762596, 1714096.58985565,\n",
       "         1411724.27540341, 1715748.31185714]],\n",
       "\n",
       "       [[1506059.17031672, 1471074.82968402, 1538194.46655983,\n",
       "         1449843.09625347, 1473405.42838597]],\n",
       "\n",
       "       [[1658185.82636899, 1425814.32986393, 1436535.93762307,\n",
       "         1861129.18908804, 1552361.71830155]]])\n",
       "Coordinates:\n",
       "  * ds         (ds) datetime64[ns] 96B 2012-08-03 2012-08-10 ... 2012-10-19\n",
       "  * component  (component) object 8B 'Weekly_Sales'\n",
       "Dimensions without coordinates: sample\n",
       "Attributes:\n",
       "    static_covariates:  static_covariates  Store\\ncomponent               \\nW...\n",
       "    hierarchy:          None\n",
       "    metadata:           None"
      ]
     },
     "execution_count": 34,
     "metadata": {},
     "output_type": "execute_result"
    }
   ],
   "source": [
    "from darts.models import LinearRegressionModel\n",
    "n = 12\n",
    "chunk_length = n\n",
    "model = LinearRegressionModel(\n",
    "    lags=12,\n",
    "    lags_past_covariates=12,\n",
    "    lags_future_covariates=[0,1,2,3,4,5,6,7,8,9,10,11,12],\n",
    "    output_chunk_length=chunk_length,\n",
    "    likelihood = 'quantile', # Can be set to quantile or poisson.\n",
    "    # If set to quantile, the sklearn.linear_model.QuantileRegressor is used. \n",
    "    # Similarly, if set to poisson, the sklearn.linear_model.PoissonRegressor is used.\n",
    "    quantiles=[0.01, 0.05, 0.50, 0.95,0.99]\n",
    ")\n",
    "model.fit(target, past_covariates=past_cov, future_covariates=future_cov)\n",
    "pred = model.predict(n, num_samples=5)\n",
    "pred"
   ]
  },
  {
   "cell_type": "code",
   "execution_count": 35,
   "metadata": {},
   "outputs": [
    {
     "data": {
      "image/png": "[encoded data removed]",
      "text/plain": [
       "<Figure size 640x480 with 1 Axes>"
      ]
     },
     "metadata": {},
     "output_type": "display_data"
    }
   ],
   "source": [
    "import matplotlib.pyplot as plt\n",
    "target.plot(label = 'train')\n",
    "pred.plot(label = 'prediction')\n",
    "test['Weekly_Sales'][:n].plot(label = 'actual')\n",
    "plt.show()"
   ]
  },
  {
   "cell_type": "code",
   "execution_count": null,
   "metadata": {},
   "outputs": [],
   "source": []
  },
  {
   "cell_type": "code",
   "execution_count": null,
   "metadata": {},
   "outputs": [],
   "source": []
  },
  {
   "cell_type": "code",
   "execution_count": null,
   "metadata": {},
   "outputs": [],
   "source": []
  },
  {
   "cell_type": "code",
   "execution_count": null,
   "metadata": {},
   "outputs": [],
   "source": []
  }
 ],
 "metadata": {
  "accelerator": "GPU",
  "colab": {
   "authorship_tag": "ABX9TyNijqGTWYHug9ymM+sjJSB0",
   "gpuType": "T4",
   "provenance": []
  },
  "kernelspec": {
   "display_name": "book_ts_py311",
   "language": "python",
   "name": "book_ts_py311"
  },
  "language_info": {
   "codemirror_mode": {
    "name": "ipython",
    "version": 3
   },
   "file_extension": ".py",
   "mimetype": "text/x-python",
   "name": "python",
   "nbconvert_exporter": "python",
   "pygments_lexer": "ipython3",
   "version": "3.11.13"
  },
  "widgets": {
   "application/vnd.jupyter.widget-state+json": {
    "01ef5f65635b4ea18cb86d5b0232c90e": {
     "model_module": "@jupyter-widgets/base",
     "model_module_version": "1.2.0",
     "model_name": "LayoutModel",
     "state": {
      "_model_module": "@jupyter-widgets/base",
      "_model_module_version": "1.2.0",
      "_model_name": "LayoutModel",
      "_view_count": null,
      "_view_module": "@jupyter-widgets/base",
      "_view_module_version": "1.2.0",
      "_view_name": "LayoutView",
      "align_content": null,
      "align_items": null,
      "align_self": null,
      "border": null,
      "bottom": null,
      "display": null,
      "flex": null,
      "flex_flow": null,
      "grid_area": null,
      "grid_auto_columns": null,
      "grid_auto_flow": null,
      "grid_auto_rows": null,
      "grid_column": null,
      "grid_gap": null,
      "grid_row": null,
      "grid_template_areas": null,
      "grid_template_columns": null,
      "grid_template_rows": null,
      "height": null,
      "justify_content": null,
      "justify_items": null,
      "left": null,
      "margin": null,
      "max_height": null,
      "max_width": null,
      "min_height": null,
      "min_width": null,
      "object_fit": null,
      "object_position": null,
      "order": null,
      "overflow": null,
      "overflow_x": null,
      "overflow_y": null,
      "padding": null,
      "right": null,
      "top": null,
      "visibility": null,
      "width": null
     }
    },
    "4a6f0148f43b48f2888e0c0f0b4641c9": {
     "model_module": "@jupyter-widgets/base",
     "model_module_version": "1.2.0",
     "model_name": "LayoutModel",
     "state": {
      "_model_module": "@jupyter-widgets/base",
      "_model_module_version": "1.2.0",
      "_model_name": "LayoutModel",
      "_view_count": null,
      "_view_module": "@jupyter-widgets/base",
      "_view_module_version": "1.2.0",
      "_view_name": "LayoutView",
      "align_content": null,
      "align_items": null,
      "align_self": null,
      "border": null,
      "bottom": null,
      "display": "inline-flex",
      "flex": null,
      "flex_flow": "row wrap",
      "grid_area": null,
      "grid_auto_columns": null,
      "grid_auto_flow": null,
      "grid_auto_rows": null,
      "grid_column": null,
      "grid_gap": null,
      "grid_row": null,
      "grid_template_areas": null,
      "grid_template_columns": null,
      "grid_template_rows": null,
      "height": null,
      "justify_content": null,
      "justify_items": null,
      "left": null,
      "margin": null,
      "max_height": null,
      "max_width": null,
      "min_height": null,
      "min_width": null,
      "object_fit": null,
      "object_position": null,
      "order": null,
      "overflow": null,
      "overflow_x": null,
      "overflow_y": null,
      "padding": null,
      "right": null,
      "top": null,
      "visibility": null,
      "width": "100%"
     }
    },
    "6d115f3a2e874213914e276626e3dbbc": {
     "model_module": "@jupyter-widgets/controls",
     "model_module_version": "1.5.0",
     "model_name": "HTMLModel",
     "state": {
      "_dom_classes": [],
      "_model_module": "@jupyter-widgets/controls",
      "_model_module_version": "1.5.0",
      "_model_name": "HTMLModel",
      "_view_count": null,
      "_view_module": "@jupyter-widgets/controls",
      "_view_module_version": "1.5.0",
      "_view_name": "HTMLView",
      "description": "",
      "description_tooltip": null,
      "layout": "IPY_MODEL_01ef5f65635b4ea18cb86d5b0232c90e",
      "placeholder": "​",
      "style": "IPY_MODEL_fc65b578d47c487e8df668a84a4a9e1a",
      "value": "Epoch 99: "
     }
    },
    "7c70da5c76d14cf2b1c84ab3b9927acc": {
     "model_module": "@jupyter-widgets/controls",
     "model_module_version": "1.5.0",
     "model_name": "FloatProgressModel",
     "state": {
      "_dom_classes": [],
      "_model_module": "@jupyter-widgets/controls",
      "_model_module_version": "1.5.0",
      "_model_name": "FloatProgressModel",
      "_view_count": null,
      "_view_module": "@jupyter-widgets/controls",
      "_view_module_version": "1.5.0",
      "_view_name": "ProgressView",
      "bar_style": "success",
      "description": "",
      "description_tooltip": null,
      "layout": "IPY_MODEL_8e0efa3943be43a591065f046fd1056d",
      "max": 1,
      "min": 0,
      "orientation": "horizontal",
      "style": "IPY_MODEL_d802cf2aeb3247dda345b5c42fba7a9e",
      "value": 1
     }
    },
    "7dbe8e58c64c4026adc1dd2cc177292f": {
     "model_module": "@jupyter-widgets/base",
     "model_module_version": "1.2.0",
     "model_name": "LayoutModel",
     "state": {
      "_model_module": "@jupyter-widgets/base",
      "_model_module_version": "1.2.0",
      "_model_name": "LayoutModel",
      "_view_count": null,
      "_view_module": "@jupyter-widgets/base",
      "_view_module_version": "1.2.0",
      "_view_name": "LayoutView",
      "align_content": null,
      "align_items": null,
      "align_self": null,
      "border": null,
      "bottom": null,
      "display": null,
      "flex": null,
      "flex_flow": null,
      "grid_area": null,
      "grid_auto_columns": null,
      "grid_auto_flow": null,
      "grid_auto_rows": null,
      "grid_column": null,
      "grid_gap": null,
      "grid_row": null,
      "grid_template_areas": null,
      "grid_template_columns": null,
      "grid_template_rows": null,
      "height": null,
      "justify_content": null,
      "justify_items": null,
      "left": null,
      "margin": null,
      "max_height": null,
      "max_width": null,
      "min_height": null,
      "min_width": null,
      "object_fit": null,
      "object_position": null,
      "order": null,
      "overflow": null,
      "overflow_x": null,
      "overflow_y": null,
      "padding": null,
      "right": null,
      "top": null,
      "visibility": null,
      "width": null
     }
    },
    "848285a226b242b89cc46555d99d0311": {
     "model_module": "@jupyter-widgets/controls",
     "model_module_version": "1.5.0",
     "model_name": "HBoxModel",
     "state": {
      "_dom_classes": [],
      "_model_module": "@jupyter-widgets/controls",
      "_model_module_version": "1.5.0",
      "_model_name": "HBoxModel",
      "_view_count": null,
      "_view_module": "@jupyter-widgets/controls",
      "_view_module_version": "1.5.0",
      "_view_name": "HBoxView",
      "box_style": "",
      "children": [
       "IPY_MODEL_6d115f3a2e874213914e276626e3dbbc",
       "IPY_MODEL_7c70da5c76d14cf2b1c84ab3b9927acc",
       "IPY_MODEL_f0b6db68f1ff4a758d81dd14ecf17271"
      ],
      "layout": "IPY_MODEL_4a6f0148f43b48f2888e0c0f0b4641c9"
     }
    },
    "8e0efa3943be43a591065f046fd1056d": {
     "model_module": "@jupyter-widgets/base",
     "model_module_version": "1.2.0",
     "model_name": "LayoutModel",
     "state": {
      "_model_module": "@jupyter-widgets/base",
      "_model_module_version": "1.2.0",
      "_model_name": "LayoutModel",
      "_view_count": null,
      "_view_module": "@jupyter-widgets/base",
      "_view_module_version": "1.2.0",
      "_view_name": "LayoutView",
      "align_content": null,
      "align_items": null,
      "align_self": null,
      "border": null,
      "bottom": null,
      "display": null,
      "flex": "2",
      "flex_flow": null,
      "grid_area": null,
      "grid_auto_columns": null,
      "grid_auto_flow": null,
      "grid_auto_rows": null,
      "grid_column": null,
      "grid_gap": null,
      "grid_row": null,
      "grid_template_areas": null,
      "grid_template_columns": null,
      "grid_template_rows": null,
      "height": null,
      "justify_content": null,
      "justify_items": null,
      "left": null,
      "margin": null,
      "max_height": null,
      "max_width": null,
      "min_height": null,
      "min_width": null,
      "object_fit": null,
      "object_position": null,
      "order": null,
      "overflow": null,
      "overflow_x": null,
      "overflow_y": null,
      "padding": null,
      "right": null,
      "top": null,
      "visibility": null,
      "width": null
     }
    },
    "d802cf2aeb3247dda345b5c42fba7a9e": {
     "model_module": "@jupyter-widgets/controls",
     "model_module_version": "1.5.0",
     "model_name": "ProgressStyleModel",
     "state": {
      "_model_module": "@jupyter-widgets/controls",
      "_model_module_version": "1.5.0",
      "_model_name": "ProgressStyleModel",
      "_view_count": null,
      "_view_module": "@jupyter-widgets/base",
      "_view_module_version": "1.2.0",
      "_view_name": "StyleView",
      "bar_color": null,
      "description_width": ""
     }
    },
    "f0b6db68f1ff4a758d81dd14ecf17271": {
     "model_module": "@jupyter-widgets/controls",
     "model_module_version": "1.5.0",
     "model_name": "HTMLModel",
     "state": {
      "_dom_classes": [],
      "_model_module": "@jupyter-widgets/controls",
      "_model_module_version": "1.5.0",
      "_model_name": "HTMLModel",
      "_view_count": null,
      "_view_module": "@jupyter-widgets/controls",
      "_view_module_version": "1.5.0",
      "_view_name": "HTMLView",
      "description": "",
      "description_tooltip": null,
      "layout": "IPY_MODEL_7dbe8e58c64c4026adc1dd2cc177292f",
      "placeholder": "​",
      "style": "IPY_MODEL_f3da66295afd4a51a792c6b25cba02d5",
      "value": " 40/? [00:06&lt;00:00,  6.51it/s, v_num=4]"
     }
    },
    "f3da66295afd4a51a792c6b25cba02d5": {
     "model_module": "@jupyter-widgets/controls",
     "model_module_version": "1.5.0",
     "model_name": "DescriptionStyleModel",
     "state": {
      "_model_module": "@jupyter-widgets/controls",
      "_model_module_version": "1.5.0",
      "_model_name": "DescriptionStyleModel",
      "_view_count": null,
      "_view_module": "@jupyter-widgets/base",
      "_view_module_version": "1.2.0",
      "_view_name": "StyleView",
      "description_width": ""
     }
    },
    "fc65b578d47c487e8df668a84a4a9e1a": {
     "model_module": "@jupyter-widgets/controls",
     "model_module_version": "1.5.0",
     "model_name": "DescriptionStyleModel",
     "state": {
      "_model_module": "@jupyter-widgets/controls",
      "_model_module_version": "1.5.0",
      "_model_name": "DescriptionStyleModel",
      "_view_count": null,
      "_view_module": "@jupyter-widgets/base",
      "_view_module_version": "1.2.0",
      "_view_name": "StyleView",
      "description_width": ""
     }
    }
   }
  }
 },
 "nbformat": 4,
 "nbformat_minor": 4
}
