{
 "cells": [
  {
   "cell_type": "markdown",
   "metadata": {
    "id": "qnkpHcV1KsxK"
   },
   "source": [
    "# Feature Engineering for Tree-based Time Series Models\n",
    "Data source: [HomeStead(US) Electricity Consumption](https://www.kaggle.com/datasets/unajtheb/homesteadus-electricity-consumption?resource=download) from Kaggle"
   ]
  },
  {
   "cell_type": "code",
   "execution_count": 1,
   "metadata": {
    "id": "evrv7h4fM1Q3"
   },
   "outputs": [],
   "source": [
    "%matplotlib inline\n",
    "from matplotlib import pyplot as plt\n",
    "import pandas as pd\n",
    "import numpy as np"
   ]
  },
  {
   "cell_type": "markdown",
   "metadata": {},
   "source": [
    "#### If you use Google Colab, following the code below."
   ]
  },
  {
   "cell_type": "code",
   "execution_count": null,
   "metadata": {
    "colab": {
     "base_uri": "https://localhost:8080/",
     "height": 309
    },
    "executionInfo": {
     "elapsed": 327,
     "status": "ok",
     "timestamp": 1705698678427,
     "user": {
      "displayName": "Dr. Dataman",
      "userId": "14648496304343042559"
     },
     "user_tz": 300
    },
    "id": "RRWY5xcmM5VF",
    "outputId": "4ee05eba-48e7-4a29-ddf3-bac01b46d570"
   },
   "outputs": [
    {
     "data": {
      "text/html": [
       "\n",
       "  <div id=\"df-33a4c690-0e60-4a41-b854-ba15a6905285\" class=\"colab-df-container\">\n",
       "    <div>\n",
       "<style scoped>\n",
       "    .dataframe tbody tr th:only-of-type {\n",
       "        vertical-align: middle;\n",
       "    }\n",
       "\n",
       "    .dataframe tbody tr th {\n",
       "        vertical-align: top;\n",
       "    }\n",
       "\n",
       "    .dataframe thead th {\n",
       "        text-align: right;\n",
       "    }\n",
       "</style>\n",
       "<table border=\"1\" class=\"dataframe\">\n",
       "  <thead>\n",
       "    <tr style=\"text-align: right;\">\n",
       "      <th></th>\n",
       "      <th>Date</th>\n",
       "      <th>Homestead_maxtempC</th>\n",
       "      <th>Homestead_mintempC</th>\n",
       "      <th>Homestead_DewPointC</th>\n",
       "      <th>Homestead_FeelsLikeC</th>\n",
       "      <th>Homestead_HeatIndexC</th>\n",
       "      <th>Homestead_WindChillC</th>\n",
       "      <th>Homestead_WindGustKmph</th>\n",
       "      <th>Homestead_cloudcover</th>\n",
       "      <th>Homestead_humidity</th>\n",
       "      <th>Homestead_precipMM</th>\n",
       "      <th>Homestead_pressure</th>\n",
       "      <th>Homestead_tempC</th>\n",
       "      <th>Homestead_visibility</th>\n",
       "      <th>Homestead_winddirDegree</th>\n",
       "      <th>Homestead_windspeedKmph</th>\n",
       "      <th>Consumption</th>\n",
       "    </tr>\n",
       "  </thead>\n",
       "  <tbody>\n",
       "    <tr>\n",
       "      <th>22196</th>\n",
       "      <td>12/11/17 4:00</td>\n",
       "      <td>19</td>\n",
       "      <td>9</td>\n",
       "      <td>1</td>\n",
       "      <td>7</td>\n",
       "      <td>10</td>\n",
       "      <td>7</td>\n",
       "      <td>29</td>\n",
       "      <td>0</td>\n",
       "      <td>54</td>\n",
       "      <td>0.0</td>\n",
       "      <td>1024</td>\n",
       "      <td>10</td>\n",
       "      <td>10</td>\n",
       "      <td>342</td>\n",
       "      <td>17</td>\n",
       "      <td>46</td>\n",
       "    </tr>\n",
       "    <tr>\n",
       "      <th>22197</th>\n",
       "      <td>12/11/17 3:00</td>\n",
       "      <td>19</td>\n",
       "      <td>9</td>\n",
       "      <td>2</td>\n",
       "      <td>8</td>\n",
       "      <td>10</td>\n",
       "      <td>8</td>\n",
       "      <td>29</td>\n",
       "      <td>0</td>\n",
       "      <td>57</td>\n",
       "      <td>0.0</td>\n",
       "      <td>1024</td>\n",
       "      <td>10</td>\n",
       "      <td>10</td>\n",
       "      <td>339</td>\n",
       "      <td>16</td>\n",
       "      <td>52</td>\n",
       "    </tr>\n",
       "    <tr>\n",
       "      <th>22198</th>\n",
       "      <td>12/11/17 2:00</td>\n",
       "      <td>19</td>\n",
       "      <td>9</td>\n",
       "      <td>2</td>\n",
       "      <td>8</td>\n",
       "      <td>10</td>\n",
       "      <td>8</td>\n",
       "      <td>28</td>\n",
       "      <td>0</td>\n",
       "      <td>56</td>\n",
       "      <td>0.0</td>\n",
       "      <td>1024</td>\n",
       "      <td>10</td>\n",
       "      <td>10</td>\n",
       "      <td>338</td>\n",
       "      <td>16</td>\n",
       "      <td>55</td>\n",
       "    </tr>\n",
       "    <tr>\n",
       "      <th>22199</th>\n",
       "      <td>12/11/17 1:00</td>\n",
       "      <td>19</td>\n",
       "      <td>9</td>\n",
       "      <td>2</td>\n",
       "      <td>8</td>\n",
       "      <td>10</td>\n",
       "      <td>8</td>\n",
       "      <td>28</td>\n",
       "      <td>0</td>\n",
       "      <td>55</td>\n",
       "      <td>0.0</td>\n",
       "      <td>1024</td>\n",
       "      <td>10</td>\n",
       "      <td>10</td>\n",
       "      <td>337</td>\n",
       "      <td>16</td>\n",
       "      <td>56</td>\n",
       "    </tr>\n",
       "    <tr>\n",
       "      <th>22200</th>\n",
       "      <td>12/11/17 0:00</td>\n",
       "      <td>19</td>\n",
       "      <td>9</td>\n",
       "      <td>1</td>\n",
       "      <td>8</td>\n",
       "      <td>10</td>\n",
       "      <td>8</td>\n",
       "      <td>28</td>\n",
       "      <td>0</td>\n",
       "      <td>55</td>\n",
       "      <td>0.0</td>\n",
       "      <td>1024</td>\n",
       "      <td>10</td>\n",
       "      <td>10</td>\n",
       "      <td>335</td>\n",
       "      <td>16</td>\n",
       "      <td>56</td>\n",
       "    </tr>\n",
       "  </tbody>\n",
       "</table>\n",
       "</div>\n",
       "    <div class=\"colab-df-buttons\">\n",
       "\n",
       "  <div class=\"colab-df-container\">\n",
       "    <button class=\"colab-df-convert\" onclick=\"convertToInteractive('df-33a4c690-0e60-4a41-b854-ba15a6905285')\"\n",
       "            title=\"Convert this dataframe to an interactive table.\"\n",
       "            style=\"display:none;\">\n",
       "\n",
       "  <svg xmlns=\"http://www.w3.org/2000/svg\" height=\"24px\" viewBox=\"0 -960 960 960\">\n",
       "    <path d=\"M120-120v-720h720v720H120Zm60-500h600v-160H180v160Zm220 220h160v-160H400v160Zm0 220h160v-160H400v160ZM180-400h160v-160H180v160Zm440 0h160v-160H620v160ZM180-180h160v-160H180v160Zm440 0h160v-160H620v160Z\"/>\n",
       "  </svg>\n",
       "    </button>\n",
       "\n",
       "  <style>\n",
       "    .colab-df-container {\n",
       "      display:flex;\n",
       "      gap: 12px;\n",
       "    }\n",
       "\n",
       "    .colab-df-convert {\n",
       "      background-color: #E8F0FE;\n",
       "      border: none;\n",
       "      border-radius: 50%;\n",
       "      cursor: pointer;\n",
       "      display: none;\n",
       "      fill: #1967D2;\n",
       "      height: 32px;\n",
       "      padding: 0 0 0 0;\n",
       "      width: 32px;\n",
       "    }\n",
       "\n",
       "    .colab-df-convert:hover {\n",
       "      background-color: #E2EBFA;\n",
       "      box-shadow: 0px 1px 2px rgba(60, 64, 67, 0.3), 0px 1px 3px 1px rgba(60, 64, 67, 0.15);\n",
       "      fill: #174EA6;\n",
       "    }\n",
       "\n",
       "    .colab-df-buttons div {\n",
       "      margin-bottom: 4px;\n",
       "    }\n",
       "\n",
       "    [theme=dark] .colab-df-convert {\n",
       "      background-color: #3B4455;\n",
       "      fill: #D2E3FC;\n",
       "    }\n",
       "\n",
       "    [theme=dark] .colab-df-convert:hover {\n",
       "      background-color: #434B5C;\n",
       "      box-shadow: 0px 1px 3px 1px rgba(0, 0, 0, 0.15);\n",
       "      filter: drop-shadow(0px 1px 2px rgba(0, 0, 0, 0.3));\n",
       "      fill: #FFFFFF;\n",
       "    }\n",
       "  </style>\n",
       "\n",
       "    <script>\n",
       "      const buttonEl =\n",
       "        document.querySelector('#df-33a4c690-0e60-4a41-b854-ba15a6905285 button.colab-df-convert');\n",
       "      buttonEl.style.display =\n",
       "        google.colab.kernel.accessAllowed ? 'block' : 'none';\n",
       "\n",
       "      async function convertToInteractive(key) {\n",
       "        const element = document.querySelector('#df-33a4c690-0e60-4a41-b854-ba15a6905285');\n",
       "        const dataTable =\n",
       "          await google.colab.kernel.invokeFunction('convertToInteractive',\n",
       "                                                    [key], {});\n",
       "        if (!dataTable) return;\n",
       "\n",
       "        const docLinkHtml = 'Like what you see? Visit the ' +\n",
       "          '<a target=\"_blank\" href=https://colab.research.google.com/notebooks/data_table.ipynb>data table notebook</a>'\n",
       "          + ' to learn more about interactive tables.';\n",
       "        element.innerHTML = '';\n",
       "        dataTable['output_type'] = 'display_data';\n",
       "        await google.colab.output.renderOutput(dataTable, element);\n",
       "        const docLink = document.createElement('div');\n",
       "        docLink.innerHTML = docLinkHtml;\n",
       "        element.appendChild(docLink);\n",
       "      }\n",
       "    </script>\n",
       "  </div>\n",
       "\n",
       "\n",
       "<div id=\"df-ee7a7dac-77ed-4ac3-9a13-9a51578fd752\">\n",
       "  <button class=\"colab-df-quickchart\" onclick=\"quickchart('df-ee7a7dac-77ed-4ac3-9a13-9a51578fd752')\"\n",
       "            title=\"Suggest charts\"\n",
       "            style=\"display:none;\">\n",
       "\n",
       "<svg xmlns=\"http://www.w3.org/2000/svg\" height=\"24px\"viewBox=\"0 0 24 24\"\n",
       "     width=\"24px\">\n",
       "    <g>\n",
       "        <path d=\"M19 3H5c-1.1 0-2 .9-2 2v14c0 1.1.9 2 2 2h14c1.1 0 2-.9 2-2V5c0-1.1-.9-2-2-2zM9 17H7v-7h2v7zm4 0h-2V7h2v10zm4 0h-2v-4h2v4z\"/>\n",
       "    </g>\n",
       "</svg>\n",
       "  </button>\n",
       "\n",
       "<style>\n",
       "  .colab-df-quickchart {\n",
       "      --bg-color: #E8F0FE;\n",
       "      --fill-color: #1967D2;\n",
       "      --hover-bg-color: #E2EBFA;\n",
       "      --hover-fill-color: #174EA6;\n",
       "      --disabled-fill-color: #AAA;\n",
       "      --disabled-bg-color: #DDD;\n",
       "  }\n",
       "\n",
       "  [theme=dark] .colab-df-quickchart {\n",
       "      --bg-color: #3B4455;\n",
       "      --fill-color: #D2E3FC;\n",
       "      --hover-bg-color: #434B5C;\n",
       "      --hover-fill-color: #FFFFFF;\n",
       "      --disabled-bg-color: #3B4455;\n",
       "      --disabled-fill-color: #666;\n",
       "  }\n",
       "\n",
       "  .colab-df-quickchart {\n",
       "    background-color: var(--bg-color);\n",
       "    border: none;\n",
       "    border-radius: 50%;\n",
       "    cursor: pointer;\n",
       "    display: none;\n",
       "    fill: var(--fill-color);\n",
       "    height: 32px;\n",
       "    padding: 0;\n",
       "    width: 32px;\n",
       "  }\n",
       "\n",
       "  .colab-df-quickchart:hover {\n",
       "    background-color: var(--hover-bg-color);\n",
       "    box-shadow: 0 1px 2px rgba(60, 64, 67, 0.3), 0 1px 3px 1px rgba(60, 64, 67, 0.15);\n",
       "    fill: var(--button-hover-fill-color);\n",
       "  }\n",
       "\n",
       "  .colab-df-quickchart-complete:disabled,\n",
       "  .colab-df-quickchart-complete:disabled:hover {\n",
       "    background-color: var(--disabled-bg-color);\n",
       "    fill: var(--disabled-fill-color);\n",
       "    box-shadow: none;\n",
       "  }\n",
       "\n",
       "  .colab-df-spinner {\n",
       "    border: 2px solid var(--fill-color);\n",
       "    border-color: transparent;\n",
       "    border-bottom-color: var(--fill-color);\n",
       "    animation:\n",
       "      spin 1s steps(1) infinite;\n",
       "  }\n",
       "\n",
       "  @keyframes spin {\n",
       "    0% {\n",
       "      border-color: transparent;\n",
       "      border-bottom-color: var(--fill-color);\n",
       "      border-left-color: var(--fill-color);\n",
       "    }\n",
       "    20% {\n",
       "      border-color: transparent;\n",
       "      border-left-color: var(--fill-color);\n",
       "      border-top-color: var(--fill-color);\n",
       "    }\n",
       "    30% {\n",
       "      border-color: transparent;\n",
       "      border-left-color: var(--fill-color);\n",
       "      border-top-color: var(--fill-color);\n",
       "      border-right-color: var(--fill-color);\n",
       "    }\n",
       "    40% {\n",
       "      border-color: transparent;\n",
       "      border-right-color: var(--fill-color);\n",
       "      border-top-color: var(--fill-color);\n",
       "    }\n",
       "    60% {\n",
       "      border-color: transparent;\n",
       "      border-right-color: var(--fill-color);\n",
       "    }\n",
       "    80% {\n",
       "      border-color: transparent;\n",
       "      border-right-color: var(--fill-color);\n",
       "      border-bottom-color: var(--fill-color);\n",
       "    }\n",
       "    90% {\n",
       "      border-color: transparent;\n",
       "      border-bottom-color: var(--fill-color);\n",
       "    }\n",
       "  }\n",
       "</style>\n",
       "\n",
       "  <script>\n",
       "    async function quickchart(key) {\n",
       "      const quickchartButtonEl =\n",
       "        document.querySelector('#' + key + ' button');\n",
       "      quickchartButtonEl.disabled = true;  // To prevent multiple clicks.\n",
       "      quickchartButtonEl.classList.add('colab-df-spinner');\n",
       "      try {\n",
       "        const charts = await google.colab.kernel.invokeFunction(\n",
       "            'suggestCharts', [key], {});\n",
       "      } catch (error) {\n",
       "        console.error('Error during call to suggestCharts:', error);\n",
       "      }\n",
       "      quickchartButtonEl.classList.remove('colab-df-spinner');\n",
       "      quickchartButtonEl.classList.add('colab-df-quickchart-complete');\n",
       "    }\n",
       "    (() => {\n",
       "      let quickchartButtonEl =\n",
       "        document.querySelector('#df-ee7a7dac-77ed-4ac3-9a13-9a51578fd752 button');\n",
       "      quickchartButtonEl.style.display =\n",
       "        google.colab.kernel.accessAllowed ? 'block' : 'none';\n",
       "    })();\n",
       "  </script>\n",
       "</div>\n",
       "\n",
       "    </div>\n",
       "  </div>\n"
      ],
      "text/plain": [
       "                Date  Homestead_maxtempC  Homestead_mintempC  \\\n",
       "22196  12/11/17 4:00                  19                   9   \n",
       "22197  12/11/17 3:00                  19                   9   \n",
       "22198  12/11/17 2:00                  19                   9   \n",
       "22199  12/11/17 1:00                  19                   9   \n",
       "22200  12/11/17 0:00                  19                   9   \n",
       "\n",
       "       Homestead_DewPointC  Homestead_FeelsLikeC  Homestead_HeatIndexC  \\\n",
       "22196                    1                     7                    10   \n",
       "22197                    2                     8                    10   \n",
       "22198                    2                     8                    10   \n",
       "22199                    2                     8                    10   \n",
       "22200                    1                     8                    10   \n",
       "\n",
       "       Homestead_WindChillC  Homestead_WindGustKmph  Homestead_cloudcover  \\\n",
       "22196                     7                      29                     0   \n",
       "22197                     8                      29                     0   \n",
       "22198                     8                      28                     0   \n",
       "22199                     8                      28                     0   \n",
       "22200                     8                      28                     0   \n",
       "\n",
       "       Homestead_humidity  Homestead_precipMM  Homestead_pressure  \\\n",
       "22196                  54                 0.0                1024   \n",
       "22197                  57                 0.0                1024   \n",
       "22198                  56                 0.0                1024   \n",
       "22199                  55                 0.0                1024   \n",
       "22200                  55                 0.0                1024   \n",
       "\n",
       "       Homestead_tempC  Homestead_visibility  Homestead_winddirDegree  \\\n",
       "22196               10                    10                      342   \n",
       "22197               10                    10                      339   \n",
       "22198               10                    10                      338   \n",
       "22199               10                    10                      337   \n",
       "22200               10                    10                      335   \n",
       "\n",
       "       Homestead_windspeedKmph  Consumption  \n",
       "22196                       17           46  \n",
       "22197                       16           52  \n",
       "22198                       16           55  \n",
       "22199                       16           56  \n",
       "22200                       16           56  "
      ]
     },
     "execution_count": 257,
     "metadata": {},
     "output_type": "execute_result"
    }
   ],
   "source": [
    "from google.colab import drive\n",
    "drive.mount('/content/gdrive')\n",
    "\n",
    "path = '/content/gdrive/My Drive/data/time_series'\n",
    "data = pd.read_csv(path + '/electric_consumption.csv')\n",
    "data.tail()"
   ]
  },
  {
   "cell_type": "code",
   "execution_count": 2,
   "metadata": {},
   "outputs": [
    {
     "data": {
      "text/html": [
       "<div>\n",
       "<style scoped>\n",
       "    .dataframe tbody tr th:only-of-type {\n",
       "        vertical-align: middle;\n",
       "    }\n",
       "\n",
       "    .dataframe tbody tr th {\n",
       "        vertical-align: top;\n",
       "    }\n",
       "\n",
       "    .dataframe thead th {\n",
       "        text-align: right;\n",
       "    }\n",
       "</style>\n",
       "<table border=\"1\" class=\"dataframe\">\n",
       "  <thead>\n",
       "    <tr style=\"text-align: right;\">\n",
       "      <th></th>\n",
       "      <th>Date</th>\n",
       "      <th>Homestead_maxtempC</th>\n",
       "      <th>Homestead_mintempC</th>\n",
       "      <th>Homestead_DewPointC</th>\n",
       "      <th>Homestead_FeelsLikeC</th>\n",
       "      <th>Homestead_HeatIndexC</th>\n",
       "      <th>Homestead_WindChillC</th>\n",
       "      <th>Homestead_WindGustKmph</th>\n",
       "      <th>Homestead_cloudcover</th>\n",
       "      <th>Homestead_humidity</th>\n",
       "      <th>Homestead_precipMM</th>\n",
       "      <th>Homestead_pressure</th>\n",
       "      <th>Homestead_tempC</th>\n",
       "      <th>Homestead_visibility</th>\n",
       "      <th>Homestead_winddirDegree</th>\n",
       "      <th>Homestead_windspeedKmph</th>\n",
       "      <th>Consumption</th>\n",
       "    </tr>\n",
       "  </thead>\n",
       "  <tbody>\n",
       "    <tr>\n",
       "      <th>22196</th>\n",
       "      <td>12/11/17 4:00</td>\n",
       "      <td>19</td>\n",
       "      <td>9</td>\n",
       "      <td>1</td>\n",
       "      <td>7</td>\n",
       "      <td>10</td>\n",
       "      <td>7</td>\n",
       "      <td>29</td>\n",
       "      <td>0</td>\n",
       "      <td>54</td>\n",
       "      <td>0.0</td>\n",
       "      <td>1024</td>\n",
       "      <td>10</td>\n",
       "      <td>10</td>\n",
       "      <td>342</td>\n",
       "      <td>17</td>\n",
       "      <td>46</td>\n",
       "    </tr>\n",
       "    <tr>\n",
       "      <th>22197</th>\n",
       "      <td>12/11/17 3:00</td>\n",
       "      <td>19</td>\n",
       "      <td>9</td>\n",
       "      <td>2</td>\n",
       "      <td>8</td>\n",
       "      <td>10</td>\n",
       "      <td>8</td>\n",
       "      <td>29</td>\n",
       "      <td>0</td>\n",
       "      <td>57</td>\n",
       "      <td>0.0</td>\n",
       "      <td>1024</td>\n",
       "      <td>10</td>\n",
       "      <td>10</td>\n",
       "      <td>339</td>\n",
       "      <td>16</td>\n",
       "      <td>52</td>\n",
       "    </tr>\n",
       "    <tr>\n",
       "      <th>22198</th>\n",
       "      <td>12/11/17 2:00</td>\n",
       "      <td>19</td>\n",
       "      <td>9</td>\n",
       "      <td>2</td>\n",
       "      <td>8</td>\n",
       "      <td>10</td>\n",
       "      <td>8</td>\n",
       "      <td>28</td>\n",
       "      <td>0</td>\n",
       "      <td>56</td>\n",
       "      <td>0.0</td>\n",
       "      <td>1024</td>\n",
       "      <td>10</td>\n",
       "      <td>10</td>\n",
       "      <td>338</td>\n",
       "      <td>16</td>\n",
       "      <td>55</td>\n",
       "    </tr>\n",
       "    <tr>\n",
       "      <th>22199</th>\n",
       "      <td>12/11/17 1:00</td>\n",
       "      <td>19</td>\n",
       "      <td>9</td>\n",
       "      <td>2</td>\n",
       "      <td>8</td>\n",
       "      <td>10</td>\n",
       "      <td>8</td>\n",
       "      <td>28</td>\n",
       "      <td>0</td>\n",
       "      <td>55</td>\n",
       "      <td>0.0</td>\n",
       "      <td>1024</td>\n",
       "      <td>10</td>\n",
       "      <td>10</td>\n",
       "      <td>337</td>\n",
       "      <td>16</td>\n",
       "      <td>56</td>\n",
       "    </tr>\n",
       "    <tr>\n",
       "      <th>22200</th>\n",
       "      <td>12/11/17 0:00</td>\n",
       "      <td>19</td>\n",
       "      <td>9</td>\n",
       "      <td>1</td>\n",
       "      <td>8</td>\n",
       "      <td>10</td>\n",
       "      <td>8</td>\n",
       "      <td>28</td>\n",
       "      <td>0</td>\n",
       "      <td>55</td>\n",
       "      <td>0.0</td>\n",
       "      <td>1024</td>\n",
       "      <td>10</td>\n",
       "      <td>10</td>\n",
       "      <td>335</td>\n",
       "      <td>16</td>\n",
       "      <td>56</td>\n",
       "    </tr>\n",
       "  </tbody>\n",
       "</table>\n",
       "</div>"
      ],
      "text/plain": [
       "                Date  Homestead_maxtempC  Homestead_mintempC  \\\n",
       "22196  12/11/17 4:00                  19                   9   \n",
       "22197  12/11/17 3:00                  19                   9   \n",
       "22198  12/11/17 2:00                  19                   9   \n",
       "22199  12/11/17 1:00                  19                   9   \n",
       "22200  12/11/17 0:00                  19                   9   \n",
       "\n",
       "       Homestead_DewPointC  Homestead_FeelsLikeC  Homestead_HeatIndexC  \\\n",
       "22196                    1                     7                    10   \n",
       "22197                    2                     8                    10   \n",
       "22198                    2                     8                    10   \n",
       "22199                    2                     8                    10   \n",
       "22200                    1                     8                    10   \n",
       "\n",
       "       Homestead_WindChillC  Homestead_WindGustKmph  Homestead_cloudcover  \\\n",
       "22196                     7                      29                     0   \n",
       "22197                     8                      29                     0   \n",
       "22198                     8                      28                     0   \n",
       "22199                     8                      28                     0   \n",
       "22200                     8                      28                     0   \n",
       "\n",
       "       Homestead_humidity  Homestead_precipMM  Homestead_pressure  \\\n",
       "22196                  54                 0.0                1024   \n",
       "22197                  57                 0.0                1024   \n",
       "22198                  56                 0.0                1024   \n",
       "22199                  55                 0.0                1024   \n",
       "22200                  55                 0.0                1024   \n",
       "\n",
       "       Homestead_tempC  Homestead_visibility  Homestead_winddirDegree  \\\n",
       "22196               10                    10                      342   \n",
       "22197               10                    10                      339   \n",
       "22198               10                    10                      338   \n",
       "22199               10                    10                      337   \n",
       "22200               10                    10                      335   \n",
       "\n",
       "       Homestead_windspeedKmph  Consumption  \n",
       "22196                       17           46  \n",
       "22197                       16           52  \n",
       "22198                       16           55  \n",
       "22199                       16           56  \n",
       "22200                       16           56  "
      ]
     },
     "execution_count": 2,
     "metadata": {},
     "output_type": "execute_result"
    }
   ],
   "source": [
    "path = '/Users/chriskuo/Documents/Documents/My_documents_all/Book_neural_network_time_series_anomaly_detection/data'\n",
    "data = pd.read_csv(path + '/electric_consumption.csv')\n",
    "data.tail()"
   ]
  },
  {
   "cell_type": "code",
   "execution_count": 3,
   "metadata": {
    "colab": {
     "base_uri": "https://localhost:8080/"
    },
    "executionInfo": {
     "elapsed": 6,
     "status": "ok",
     "timestamp": 1705698679379,
     "user": {
      "displayName": "Dr. Dataman",
      "userId": "14648496304343042559"
     },
     "user_tz": 300
    },
    "id": "hEn5GMkNNLIm",
    "outputId": "3a204228-7d2a-4144-8d60-f8531230d832"
   },
   "outputs": [
    {
     "data": {
      "text/plain": [
       "Index(['Date', 'Homestead_maxtempC', 'Homestead_mintempC',\n",
       "       'Homestead_DewPointC', 'Homestead_FeelsLikeC', 'Homestead_HeatIndexC',\n",
       "       'Homestead_WindChillC', 'Homestead_WindGustKmph',\n",
       "       'Homestead_cloudcover', 'Homestead_humidity', 'Homestead_precipMM',\n",
       "       'Homestead_pressure', 'Homestead_tempC', 'Homestead_visibility',\n",
       "       'Homestead_winddirDegree', 'Homestead_windspeedKmph', 'Consumption'],\n",
       "      dtype='object')"
      ]
     },
     "execution_count": 3,
     "metadata": {},
     "output_type": "execute_result"
    }
   ],
   "source": [
    "data.columns"
   ]
  },
  {
   "cell_type": "code",
   "execution_count": 4,
   "metadata": {
    "colab": {
     "base_uri": "https://localhost:8080/"
    },
    "executionInfo": {
     "elapsed": 8,
     "status": "ok",
     "timestamp": 1705698680625,
     "user": {
      "displayName": "Dr. Dataman",
      "userId": "14648496304343042559"
     },
     "user_tz": 300
    },
    "id": "79LqrY0pRw77",
    "outputId": "11c949d6-d9b4-4d87-87da-03267d907463"
   },
   "outputs": [
    {
     "data": {
      "text/plain": [
       "Date                        object\n",
       "Homestead_maxtempC           int64\n",
       "Homestead_mintempC           int64\n",
       "Homestead_DewPointC          int64\n",
       "Homestead_FeelsLikeC         int64\n",
       "Homestead_HeatIndexC         int64\n",
       "Homestead_WindChillC         int64\n",
       "Homestead_WindGustKmph       int64\n",
       "Homestead_cloudcover         int64\n",
       "Homestead_humidity           int64\n",
       "Homestead_precipMM         float64\n",
       "Homestead_pressure           int64\n",
       "Homestead_tempC              int64\n",
       "Homestead_visibility         int64\n",
       "Homestead_winddirDegree      int64\n",
       "Homestead_windspeedKmph      int64\n",
       "Consumption                  int64\n",
       "dtype: object"
      ]
     },
     "execution_count": 4,
     "metadata": {},
     "output_type": "execute_result"
    }
   ],
   "source": [
    "data.dtypes"
   ]
  },
  {
   "cell_type": "code",
   "execution_count": 7,
   "metadata": {
    "id": "TvGZPumAKuv-"
   },
   "outputs": [
    {
     "name": "stderr",
     "output_type": "stream",
     "text": [
      "/var/folders/b8/hq7p21n142n321y966q8j1600000gn/T/ipykernel_4939/214128315.py:3: UserWarning: Could not infer format, so each element will be parsed individually, falling back to `dateutil`. To ensure parsing is consistent and as-expected, please specify a format.\n",
      "  df[\"date\"] = pd.to_datetime(df[\"date\"])\n"
     ]
    }
   ],
   "source": [
    "df = data[['Date','Consumption']].copy()\n",
    "df.columns = ['date','y']\n",
    "df[\"date\"] = pd.to_datetime(df[\"date\"])\n",
    "df = df.sort_values(by='date')"
   ]
  },
  {
   "cell_type": "code",
   "execution_count": 8,
   "metadata": {
    "colab": {
     "base_uri": "https://localhost:8080/",
     "height": 388
    },
    "executionInfo": {
     "elapsed": 729,
     "status": "ok",
     "timestamp": 1705698685182,
     "user": {
      "displayName": "Dr. Dataman",
      "userId": "14648496304343042559"
     },
     "user_tz": 300
    },
    "id": "RnlE75GPRqcm",
    "outputId": "529a7f13-a734-40ec-ecc3-472fafc6aeea"
   },
   "outputs": [
    {
     "data": {
      "image/png": "[encoded data removed]",
      "text/plain": [
       "<Figure size 1000x400 with 1 Axes>"
      ]
     },
     "metadata": {},
     "output_type": "display_data"
    }
   ],
   "source": [
    "plt.figure(figsize=(10,4))\n",
    "plt.plot(df['date'], df[\"y\"])\n",
    "plt.xlabel(\"Date\")\n",
    "plt.ylabel(\"Consumption\")\n",
    "plt.show()"
   ]
  },
  {
   "cell_type": "code",
   "execution_count": 9,
   "metadata": {
    "colab": {
     "base_uri": "https://localhost:8080/",
     "height": 204
    },
    "executionInfo": {
     "elapsed": 256,
     "status": "ok",
     "timestamp": 1705698685183,
     "user": {
      "displayName": "Dr. Dataman",
      "userId": "14648496304343042559"
     },
     "user_tz": 300
    },
    "id": "cmTNT_drNTB2",
    "outputId": "28ab2b01-8206-4656-a478-2df5a778d34f"
   },
   "outputs": [
    {
     "data": {
      "text/html": [
       "<div>\n",
       "<style scoped>\n",
       "    .dataframe tbody tr th:only-of-type {\n",
       "        vertical-align: middle;\n",
       "    }\n",
       "\n",
       "    .dataframe tbody tr th {\n",
       "        vertical-align: top;\n",
       "    }\n",
       "\n",
       "    .dataframe thead th {\n",
       "        text-align: right;\n",
       "    }\n",
       "</style>\n",
       "<table border=\"1\" class=\"dataframe\">\n",
       "  <thead>\n",
       "    <tr style=\"text-align: right;\">\n",
       "      <th></th>\n",
       "      <th>date</th>\n",
       "      <th>y</th>\n",
       "    </tr>\n",
       "  </thead>\n",
       "  <tbody>\n",
       "    <tr>\n",
       "      <th>22200</th>\n",
       "      <td>2017-12-11 00:00:00</td>\n",
       "      <td>56</td>\n",
       "    </tr>\n",
       "    <tr>\n",
       "      <th>22199</th>\n",
       "      <td>2017-12-11 01:00:00</td>\n",
       "      <td>56</td>\n",
       "    </tr>\n",
       "    <tr>\n",
       "      <th>22198</th>\n",
       "      <td>2017-12-11 02:00:00</td>\n",
       "      <td>55</td>\n",
       "    </tr>\n",
       "    <tr>\n",
       "      <th>22197</th>\n",
       "      <td>2017-12-11 03:00:00</td>\n",
       "      <td>52</td>\n",
       "    </tr>\n",
       "    <tr>\n",
       "      <th>22196</th>\n",
       "      <td>2017-12-11 04:00:00</td>\n",
       "      <td>46</td>\n",
       "    </tr>\n",
       "  </tbody>\n",
       "</table>\n",
       "</div>"
      ],
      "text/plain": [
       "                     date   y\n",
       "22200 2017-12-11 00:00:00  56\n",
       "22199 2017-12-11 01:00:00  56\n",
       "22198 2017-12-11 02:00:00  55\n",
       "22197 2017-12-11 03:00:00  52\n",
       "22196 2017-12-11 04:00:00  46"
      ]
     },
     "execution_count": 9,
     "metadata": {},
     "output_type": "execute_result"
    }
   ],
   "source": [
    "df.head()"
   ]
  },
  {
   "cell_type": "markdown",
   "metadata": {
    "id": "m_l4ejRpIho6"
   },
   "source": [
    "## (1) Creating features"
   ]
  },
  {
   "cell_type": "markdown",
   "metadata": {
    "id": "ULboCP6IlSrD"
   },
   "source": [
    "### (1.1) Creating lagged and future values"
   ]
  },
  {
   "cell_type": "code",
   "execution_count": 10,
   "metadata": {
    "colab": {
     "base_uri": "https://localhost:8080/",
     "height": 204
    },
    "executionInfo": {
     "elapsed": 460,
     "status": "ok",
     "timestamp": 1705698686984,
     "user": {
      "displayName": "Dr. Dataman",
      "userId": "14648496304343042559"
     },
     "user_tz": 300
    },
    "id": "glS3oYJdOCBd",
    "outputId": "bd691e34-93d5-4563-f88a-739a47bbdb44"
   },
   "outputs": [
    {
     "data": {
      "text/html": [
       "<div>\n",
       "<style scoped>\n",
       "    .dataframe tbody tr th:only-of-type {\n",
       "        vertical-align: middle;\n",
       "    }\n",
       "\n",
       "    .dataframe tbody tr th {\n",
       "        vertical-align: top;\n",
       "    }\n",
       "\n",
       "    .dataframe thead th {\n",
       "        text-align: right;\n",
       "    }\n",
       "</style>\n",
       "<table border=\"1\" class=\"dataframe\">\n",
       "  <thead>\n",
       "    <tr style=\"text-align: right;\">\n",
       "      <th></th>\n",
       "      <th>date</th>\n",
       "      <th>y</th>\n",
       "      <th>y-1</th>\n",
       "      <th>y-2</th>\n",
       "      <th>y-3</th>\n",
       "    </tr>\n",
       "  </thead>\n",
       "  <tbody>\n",
       "    <tr>\n",
       "      <th>22200</th>\n",
       "      <td>2017-12-11 00:00:00</td>\n",
       "      <td>56</td>\n",
       "      <td>NaN</td>\n",
       "      <td>NaN</td>\n",
       "      <td>NaN</td>\n",
       "    </tr>\n",
       "    <tr>\n",
       "      <th>22199</th>\n",
       "      <td>2017-12-11 01:00:00</td>\n",
       "      <td>56</td>\n",
       "      <td>56.0</td>\n",
       "      <td>NaN</td>\n",
       "      <td>NaN</td>\n",
       "    </tr>\n",
       "    <tr>\n",
       "      <th>22198</th>\n",
       "      <td>2017-12-11 02:00:00</td>\n",
       "      <td>55</td>\n",
       "      <td>56.0</td>\n",
       "      <td>56.0</td>\n",
       "      <td>NaN</td>\n",
       "    </tr>\n",
       "    <tr>\n",
       "      <th>22197</th>\n",
       "      <td>2017-12-11 03:00:00</td>\n",
       "      <td>52</td>\n",
       "      <td>55.0</td>\n",
       "      <td>56.0</td>\n",
       "      <td>56.0</td>\n",
       "    </tr>\n",
       "    <tr>\n",
       "      <th>22196</th>\n",
       "      <td>2017-12-11 04:00:00</td>\n",
       "      <td>46</td>\n",
       "      <td>52.0</td>\n",
       "      <td>55.0</td>\n",
       "      <td>56.0</td>\n",
       "    </tr>\n",
       "  </tbody>\n",
       "</table>\n",
       "</div>"
      ],
      "text/plain": [
       "                     date   y   y-1   y-2   y-3\n",
       "22200 2017-12-11 00:00:00  56   NaN   NaN   NaN\n",
       "22199 2017-12-11 01:00:00  56  56.0   NaN   NaN\n",
       "22198 2017-12-11 02:00:00  55  56.0  56.0   NaN\n",
       "22197 2017-12-11 03:00:00  52  55.0  56.0  56.0\n",
       "22196 2017-12-11 04:00:00  46  52.0  55.0  56.0"
      ]
     },
     "execution_count": 10,
     "metadata": {},
     "output_type": "execute_result"
    }
   ],
   "source": [
    "ff = df.copy()\n",
    "ff['y-1'] = ff['y'].shift(1)\n",
    "ff['y-2'] = ff['y'].shift(2)\n",
    "ff['y-3'] = ff['y'].shift(3)\n",
    "ff.head()"
   ]
  },
  {
   "cell_type": "code",
   "execution_count": 11,
   "metadata": {
    "colab": {
     "base_uri": "https://localhost:8080/",
     "height": 204
    },
    "executionInfo": {
     "elapsed": 111,
     "status": "ok",
     "timestamp": 1705698687535,
     "user": {
      "displayName": "Dr. Dataman",
      "userId": "14648496304343042559"
     },
     "user_tz": 300
    },
    "id": "X1xLpkfKTldo",
    "outputId": "8048a879-021c-4da8-9e14-ff37d04b2e45"
   },
   "outputs": [
    {
     "data": {
      "text/html": [
       "<div>\n",
       "<style scoped>\n",
       "    .dataframe tbody tr th:only-of-type {\n",
       "        vertical-align: middle;\n",
       "    }\n",
       "\n",
       "    .dataframe tbody tr th {\n",
       "        vertical-align: top;\n",
       "    }\n",
       "\n",
       "    .dataframe thead th {\n",
       "        text-align: right;\n",
       "    }\n",
       "</style>\n",
       "<table border=\"1\" class=\"dataframe\">\n",
       "  <thead>\n",
       "    <tr style=\"text-align: right;\">\n",
       "      <th></th>\n",
       "      <th>date</th>\n",
       "      <th>y</th>\n",
       "      <th>y-1</th>\n",
       "      <th>y-2</th>\n",
       "      <th>y-3</th>\n",
       "      <th>y-4</th>\n",
       "      <th>y-5</th>\n",
       "    </tr>\n",
       "  </thead>\n",
       "  <tbody>\n",
       "    <tr>\n",
       "      <th>22200</th>\n",
       "      <td>2017-12-11 00:00:00</td>\n",
       "      <td>56</td>\n",
       "      <td>NaN</td>\n",
       "      <td>NaN</td>\n",
       "      <td>NaN</td>\n",
       "      <td>NaN</td>\n",
       "      <td>NaN</td>\n",
       "    </tr>\n",
       "    <tr>\n",
       "      <th>22199</th>\n",
       "      <td>2017-12-11 01:00:00</td>\n",
       "      <td>56</td>\n",
       "      <td>56.0</td>\n",
       "      <td>NaN</td>\n",
       "      <td>NaN</td>\n",
       "      <td>NaN</td>\n",
       "      <td>NaN</td>\n",
       "    </tr>\n",
       "    <tr>\n",
       "      <th>22198</th>\n",
       "      <td>2017-12-11 02:00:00</td>\n",
       "      <td>55</td>\n",
       "      <td>56.0</td>\n",
       "      <td>56.0</td>\n",
       "      <td>NaN</td>\n",
       "      <td>NaN</td>\n",
       "      <td>NaN</td>\n",
       "    </tr>\n",
       "    <tr>\n",
       "      <th>22197</th>\n",
       "      <td>2017-12-11 03:00:00</td>\n",
       "      <td>52</td>\n",
       "      <td>55.0</td>\n",
       "      <td>56.0</td>\n",
       "      <td>56.0</td>\n",
       "      <td>NaN</td>\n",
       "      <td>NaN</td>\n",
       "    </tr>\n",
       "    <tr>\n",
       "      <th>22196</th>\n",
       "      <td>2017-12-11 04:00:00</td>\n",
       "      <td>46</td>\n",
       "      <td>52.0</td>\n",
       "      <td>55.0</td>\n",
       "      <td>56.0</td>\n",
       "      <td>56.0</td>\n",
       "      <td>NaN</td>\n",
       "    </tr>\n",
       "  </tbody>\n",
       "</table>\n",
       "</div>"
      ],
      "text/plain": [
       "                     date   y   y-1   y-2   y-3   y-4  y-5\n",
       "22200 2017-12-11 00:00:00  56   NaN   NaN   NaN   NaN  NaN\n",
       "22199 2017-12-11 01:00:00  56  56.0   NaN   NaN   NaN  NaN\n",
       "22198 2017-12-11 02:00:00  55  56.0  56.0   NaN   NaN  NaN\n",
       "22197 2017-12-11 03:00:00  52  55.0  56.0  56.0   NaN  NaN\n",
       "22196 2017-12-11 04:00:00  46  52.0  55.0  56.0  56.0  NaN"
      ]
     },
     "execution_count": 11,
     "metadata": {},
     "output_type": "execute_result"
    }
   ],
   "source": [
    "ff = df.copy()\n",
    "\n",
    "def create_lagged(df, n_vars):\n",
    "  for i in range(n_vars):\n",
    "    name = ('y-%d' % (i+1))\n",
    "    df[name] = df['y'].shift(i+1)\n",
    "  return df\n",
    "\n",
    "ff = create_lagged(ff, 5)\n",
    "ff.head()"
   ]
  },
  {
   "cell_type": "code",
   "execution_count": 12,
   "metadata": {
    "colab": {
     "base_uri": "https://localhost:8080/",
     "height": 204
    },
    "executionInfo": {
     "elapsed": 111,
     "status": "ok",
     "timestamp": 1705698688371,
     "user": {
      "displayName": "Dr. Dataman",
      "userId": "14648496304343042559"
     },
     "user_tz": 300
    },
    "id": "v4DZGQhRQzFY",
    "outputId": "9096a01a-9290-4ee2-97ec-ca29341bd564"
   },
   "outputs": [
    {
     "data": {
      "text/html": [
       "<div>\n",
       "<style scoped>\n",
       "    .dataframe tbody tr th:only-of-type {\n",
       "        vertical-align: middle;\n",
       "    }\n",
       "\n",
       "    .dataframe tbody tr th {\n",
       "        vertical-align: top;\n",
       "    }\n",
       "\n",
       "    .dataframe thead th {\n",
       "        text-align: right;\n",
       "    }\n",
       "</style>\n",
       "<table border=\"1\" class=\"dataframe\">\n",
       "  <thead>\n",
       "    <tr style=\"text-align: right;\">\n",
       "      <th></th>\n",
       "      <th>date</th>\n",
       "      <th>y</th>\n",
       "      <th>y+1</th>\n",
       "      <th>y+2</th>\n",
       "      <th>y+3</th>\n",
       "    </tr>\n",
       "  </thead>\n",
       "  <tbody>\n",
       "    <tr>\n",
       "      <th>4</th>\n",
       "      <td>2020-06-25 13:00:00</td>\n",
       "      <td>73</td>\n",
       "      <td>82.0</td>\n",
       "      <td>74.0</td>\n",
       "      <td>99.0</td>\n",
       "    </tr>\n",
       "    <tr>\n",
       "      <th>3</th>\n",
       "      <td>2020-06-25 14:00:00</td>\n",
       "      <td>82</td>\n",
       "      <td>74.0</td>\n",
       "      <td>99.0</td>\n",
       "      <td>103.0</td>\n",
       "    </tr>\n",
       "    <tr>\n",
       "      <th>2</th>\n",
       "      <td>2020-06-25 15:00:00</td>\n",
       "      <td>74</td>\n",
       "      <td>99.0</td>\n",
       "      <td>103.0</td>\n",
       "      <td>NaN</td>\n",
       "    </tr>\n",
       "    <tr>\n",
       "      <th>1</th>\n",
       "      <td>2020-06-25 16:00:00</td>\n",
       "      <td>99</td>\n",
       "      <td>103.0</td>\n",
       "      <td>NaN</td>\n",
       "      <td>NaN</td>\n",
       "    </tr>\n",
       "    <tr>\n",
       "      <th>0</th>\n",
       "      <td>2020-06-25 17:00:00</td>\n",
       "      <td>103</td>\n",
       "      <td>NaN</td>\n",
       "      <td>NaN</td>\n",
       "      <td>NaN</td>\n",
       "    </tr>\n",
       "  </tbody>\n",
       "</table>\n",
       "</div>"
      ],
      "text/plain": [
       "                 date    y    y+1    y+2    y+3\n",
       "4 2020-06-25 13:00:00   73   82.0   74.0   99.0\n",
       "3 2020-06-25 14:00:00   82   74.0   99.0  103.0\n",
       "2 2020-06-25 15:00:00   74   99.0  103.0    NaN\n",
       "1 2020-06-25 16:00:00   99  103.0    NaN    NaN\n",
       "0 2020-06-25 17:00:00  103    NaN    NaN    NaN"
      ]
     },
     "execution_count": 12,
     "metadata": {},
     "output_type": "execute_result"
    }
   ],
   "source": [
    "ff = df.copy()\n",
    "ff['y+1'] = ff['y'].shift(-1)\n",
    "ff['y+2'] = ff['y'].shift(-2)\n",
    "ff['y+3'] = ff['y'].shift(-3)\n",
    "ff.tail()"
   ]
  },
  {
   "cell_type": "code",
   "execution_count": 13,
   "metadata": {
    "colab": {
     "base_uri": "https://localhost:8080/"
    },
    "executionInfo": {
     "elapsed": 7,
     "status": "ok",
     "timestamp": 1705698689321,
     "user": {
      "displayName": "Dr. Dataman",
      "userId": "14648496304343042559"
     },
     "user_tz": 300
    },
    "id": "kUv8EVFCVnga",
    "outputId": "86e99a92-b824-48a4-d12f-0ae0acf6c287"
   },
   "outputs": [
    {
     "data": {
      "text/plain": [
       "Index(['date', 'y', 'y-1', 'y-2', 'y-3', 'y-4', 'y-5', 'y-6', 'y-7', 'y-8',\n",
       "       'y-9', 'y-10', 'y-11', 'y-12', 'y-13', 'y-14', 'y-15', 'y-16', 'y-17',\n",
       "       'y-18', 'y-19', 'y-20', 'y-21', 'y-22', 'y-23', 'y-24', 'y-25'],\n",
       "      dtype='object')"
      ]
     },
     "execution_count": 13,
     "metadata": {},
     "output_type": "execute_result"
    }
   ],
   "source": [
    "df = create_lagged(df, 25)\n",
    "df.columns"
   ]
  },
  {
   "cell_type": "markdown",
   "metadata": {
    "id": "IpbwAPXCUYYr"
   },
   "source": [
    "### (1.2) Creating time-based features\n",
    "- Pandas.Series.dt has many time-based features: https://pandas.pydata.org/docs/reference/api/pandas.Series.dt.floor.html"
   ]
  },
  {
   "cell_type": "code",
   "execution_count": 14,
   "metadata": {
    "colab": {
     "base_uri": "https://localhost:8080/",
     "height": 267
    },
    "executionInfo": {
     "elapsed": 392,
     "status": "ok",
     "timestamp": 1705698701296,
     "user": {
      "displayName": "Dr. Dataman",
      "userId": "14648496304343042559"
     },
     "user_tz": 300
    },
    "id": "7zpmULJfTbQD",
    "outputId": "418c1f7a-8a09-4785-dd88-9e4fbad8a16b"
   },
   "outputs": [
    {
     "data": {
      "text/html": [
       "<div>\n",
       "<style scoped>\n",
       "    .dataframe tbody tr th:only-of-type {\n",
       "        vertical-align: middle;\n",
       "    }\n",
       "\n",
       "    .dataframe tbody tr th {\n",
       "        vertical-align: top;\n",
       "    }\n",
       "\n",
       "    .dataframe thead th {\n",
       "        text-align: right;\n",
       "    }\n",
       "</style>\n",
       "<table border=\"1\" class=\"dataframe\">\n",
       "  <thead>\n",
       "    <tr style=\"text-align: right;\">\n",
       "      <th></th>\n",
       "      <th>date</th>\n",
       "      <th>y</th>\n",
       "      <th>y-1</th>\n",
       "      <th>y-2</th>\n",
       "      <th>y-3</th>\n",
       "      <th>y-4</th>\n",
       "      <th>y-5</th>\n",
       "      <th>y-6</th>\n",
       "      <th>y-7</th>\n",
       "      <th>y-8</th>\n",
       "      <th>...</th>\n",
       "      <th>year</th>\n",
       "      <th>quarter</th>\n",
       "      <th>hour_of_day</th>\n",
       "      <th>weekday</th>\n",
       "      <th>is_year_start</th>\n",
       "      <th>is_year_end</th>\n",
       "      <th>is_month_start</th>\n",
       "      <th>is_month_end</th>\n",
       "      <th>is_quarter_start</th>\n",
       "      <th>is_quarter_end</th>\n",
       "    </tr>\n",
       "  </thead>\n",
       "  <tbody>\n",
       "    <tr>\n",
       "      <th>22200</th>\n",
       "      <td>2017-12-11 00:00:00</td>\n",
       "      <td>56</td>\n",
       "      <td>NaN</td>\n",
       "      <td>NaN</td>\n",
       "      <td>NaN</td>\n",
       "      <td>NaN</td>\n",
       "      <td>NaN</td>\n",
       "      <td>NaN</td>\n",
       "      <td>NaN</td>\n",
       "      <td>NaN</td>\n",
       "      <td>...</td>\n",
       "      <td>2017</td>\n",
       "      <td>4</td>\n",
       "      <td>0</td>\n",
       "      <td>0</td>\n",
       "      <td>0</td>\n",
       "      <td>0</td>\n",
       "      <td>0</td>\n",
       "      <td>0</td>\n",
       "      <td>0</td>\n",
       "      <td>0</td>\n",
       "    </tr>\n",
       "    <tr>\n",
       "      <th>22199</th>\n",
       "      <td>2017-12-11 01:00:00</td>\n",
       "      <td>56</td>\n",
       "      <td>56.0</td>\n",
       "      <td>NaN</td>\n",
       "      <td>NaN</td>\n",
       "      <td>NaN</td>\n",
       "      <td>NaN</td>\n",
       "      <td>NaN</td>\n",
       "      <td>NaN</td>\n",
       "      <td>NaN</td>\n",
       "      <td>...</td>\n",
       "      <td>2017</td>\n",
       "      <td>4</td>\n",
       "      <td>1</td>\n",
       "      <td>0</td>\n",
       "      <td>0</td>\n",
       "      <td>0</td>\n",
       "      <td>0</td>\n",
       "      <td>0</td>\n",
       "      <td>0</td>\n",
       "      <td>0</td>\n",
       "    </tr>\n",
       "    <tr>\n",
       "      <th>22198</th>\n",
       "      <td>2017-12-11 02:00:00</td>\n",
       "      <td>55</td>\n",
       "      <td>56.0</td>\n",
       "      <td>56.0</td>\n",
       "      <td>NaN</td>\n",
       "      <td>NaN</td>\n",
       "      <td>NaN</td>\n",
       "      <td>NaN</td>\n",
       "      <td>NaN</td>\n",
       "      <td>NaN</td>\n",
       "      <td>...</td>\n",
       "      <td>2017</td>\n",
       "      <td>4</td>\n",
       "      <td>2</td>\n",
       "      <td>0</td>\n",
       "      <td>0</td>\n",
       "      <td>0</td>\n",
       "      <td>0</td>\n",
       "      <td>0</td>\n",
       "      <td>0</td>\n",
       "      <td>0</td>\n",
       "    </tr>\n",
       "    <tr>\n",
       "      <th>22197</th>\n",
       "      <td>2017-12-11 03:00:00</td>\n",
       "      <td>52</td>\n",
       "      <td>55.0</td>\n",
       "      <td>56.0</td>\n",
       "      <td>56.0</td>\n",
       "      <td>NaN</td>\n",
       "      <td>NaN</td>\n",
       "      <td>NaN</td>\n",
       "      <td>NaN</td>\n",
       "      <td>NaN</td>\n",
       "      <td>...</td>\n",
       "      <td>2017</td>\n",
       "      <td>4</td>\n",
       "      <td>3</td>\n",
       "      <td>0</td>\n",
       "      <td>0</td>\n",
       "      <td>0</td>\n",
       "      <td>0</td>\n",
       "      <td>0</td>\n",
       "      <td>0</td>\n",
       "      <td>0</td>\n",
       "    </tr>\n",
       "    <tr>\n",
       "      <th>22196</th>\n",
       "      <td>2017-12-11 04:00:00</td>\n",
       "      <td>46</td>\n",
       "      <td>52.0</td>\n",
       "      <td>55.0</td>\n",
       "      <td>56.0</td>\n",
       "      <td>56.0</td>\n",
       "      <td>NaN</td>\n",
       "      <td>NaN</td>\n",
       "      <td>NaN</td>\n",
       "      <td>NaN</td>\n",
       "      <td>...</td>\n",
       "      <td>2017</td>\n",
       "      <td>4</td>\n",
       "      <td>4</td>\n",
       "      <td>0</td>\n",
       "      <td>0</td>\n",
       "      <td>0</td>\n",
       "      <td>0</td>\n",
       "      <td>0</td>\n",
       "      <td>0</td>\n",
       "      <td>0</td>\n",
       "    </tr>\n",
       "  </tbody>\n",
       "</table>\n",
       "<p>5 rows × 41 columns</p>\n",
       "</div>"
      ],
      "text/plain": [
       "                     date   y   y-1   y-2   y-3   y-4  y-5  y-6  y-7  y-8  \\\n",
       "22200 2017-12-11 00:00:00  56   NaN   NaN   NaN   NaN  NaN  NaN  NaN  NaN   \n",
       "22199 2017-12-11 01:00:00  56  56.0   NaN   NaN   NaN  NaN  NaN  NaN  NaN   \n",
       "22198 2017-12-11 02:00:00  55  56.0  56.0   NaN   NaN  NaN  NaN  NaN  NaN   \n",
       "22197 2017-12-11 03:00:00  52  55.0  56.0  56.0   NaN  NaN  NaN  NaN  NaN   \n",
       "22196 2017-12-11 04:00:00  46  52.0  55.0  56.0  56.0  NaN  NaN  NaN  NaN   \n",
       "\n",
       "       ...  year  quarter  hour_of_day  weekday  is_year_start  is_year_end  \\\n",
       "22200  ...  2017        4            0        0              0            0   \n",
       "22199  ...  2017        4            1        0              0            0   \n",
       "22198  ...  2017        4            2        0              0            0   \n",
       "22197  ...  2017        4            3        0              0            0   \n",
       "22196  ...  2017        4            4        0              0            0   \n",
       "\n",
       "       is_month_start  is_month_end  is_quarter_start  is_quarter_end  \n",
       "22200               0             0                 0               0  \n",
       "22199               0             0                 0               0  \n",
       "22198               0             0                 0               0  \n",
       "22197               0             0                 0               0  \n",
       "22196               0             0                 0               0  \n",
       "\n",
       "[5 rows x 41 columns]"
      ]
     },
     "execution_count": 14,
     "metadata": {},
     "output_type": "execute_result"
    }
   ],
   "source": [
    "def create_date_features(df):\n",
    "    df['month'] = df.date.dt.month\n",
    "    df['day_of_month'] = df.date.dt.day\n",
    "    df['day_of_year'] = df.date.dt.dayofyear\n",
    "    df['day_of_week'] = df.date.dt.dayofweek + 1\n",
    "    df['year'] = df.date.dt.year\n",
    "    df['quarter'] = df.date.dt.quarter\n",
    "    df['hour_of_day'] = df.date.dt.hour\n",
    "    df['weekday'] = df.date.dt.weekday\n",
    "    df['is_year_start'] = df.date.dt.is_year_start.astype(int)\n",
    "    df['is_year_end'] = df.date.dt.is_year_end.astype(int)\n",
    "    df['is_month_start'] = df.date.dt.is_month_start.astype(int)\n",
    "    df['is_month_end'] = df.date.dt.is_month_end.astype(int)\n",
    "    df['is_quarter_start'] = df.date.dt.is_quarter_start.astype(int)\n",
    "    df['is_quarter_end'] = df.date.dt.is_quarter_end.astype(int)\n",
    "    df['is_quarter_end'] = df.date.dt.is_quarter_end.astype(int)\n",
    "    return df\n",
    "df = create_date_features(df)\n",
    "df.head()"
   ]
  },
  {
   "cell_type": "code",
   "execution_count": 15,
   "metadata": {
    "id": "rAdi71qOpQuH"
   },
   "outputs": [],
   "source": [
    "to_dummy = ['weekday', 'month', 'quarter', 'year', 'day_of_month', 'day_of_week', 'hour_of_day']\n",
    "df = pd.get_dummies(df, columns= to_dummy)"
   ]
  },
  {
   "cell_type": "code",
   "execution_count": 16,
   "metadata": {
    "colab": {
     "base_uri": "https://localhost:8080/"
    },
    "executionInfo": {
     "elapsed": 9,
     "status": "ok",
     "timestamp": 1705698701370,
     "user": {
      "displayName": "Dr. Dataman",
      "userId": "14648496304343042559"
     },
     "user_tz": 300
    },
    "id": "0r8g7CI9pN1Q",
    "outputId": "2c64e58e-c3b6-4a29-f470-c9f75e9c803c"
   },
   "outputs": [
    {
     "data": {
      "text/plain": [
       "Index(['date', 'y', 'y-1', 'y-2', 'y-3', 'y-4', 'y-5', 'y-6', 'y-7', 'y-8',\n",
       "       ...\n",
       "       'hour_of_day_14', 'hour_of_day_15', 'hour_of_day_16', 'hour_of_day_17',\n",
       "       'hour_of_day_18', 'hour_of_day_19', 'hour_of_day_20', 'hour_of_day_21',\n",
       "       'hour_of_day_22', 'hour_of_day_23'],\n",
       "      dtype='object', length=123)"
      ]
     },
     "execution_count": 16,
     "metadata": {},
     "output_type": "execute_result"
    }
   ],
   "source": [
    "df.columns"
   ]
  },
  {
   "cell_type": "markdown",
   "metadata": {
    "id": "px81-Epllevw"
   },
   "source": [
    "### (1.3) Creating moving average variables"
   ]
  },
  {
   "cell_type": "code",
   "execution_count": 17,
   "metadata": {
    "colab": {
     "base_uri": "https://localhost:8080/",
     "height": 233
    },
    "executionInfo": {
     "elapsed": 278,
     "status": "ok",
     "timestamp": 1705698702664,
     "user": {
      "displayName": "Dr. Dataman",
      "userId": "14648496304343042559"
     },
     "user_tz": 300
    },
    "id": "tsDpga-PT_OG",
    "outputId": "b76b28b6-7b39-48e5-ebac-a6bd1cdc151d"
   },
   "outputs": [
    {
     "data": {
      "text/html": [
       "<div>\n",
       "<style scoped>\n",
       "    .dataframe tbody tr th:only-of-type {\n",
       "        vertical-align: middle;\n",
       "    }\n",
       "\n",
       "    .dataframe tbody tr th {\n",
       "        vertical-align: top;\n",
       "    }\n",
       "\n",
       "    .dataframe thead th {\n",
       "        text-align: right;\n",
       "    }\n",
       "</style>\n",
       "<table border=\"1\" class=\"dataframe\">\n",
       "  <thead>\n",
       "    <tr style=\"text-align: right;\">\n",
       "      <th></th>\n",
       "      <th>date</th>\n",
       "      <th>y</th>\n",
       "      <th>y-1</th>\n",
       "      <th>y-2</th>\n",
       "      <th>y-3</th>\n",
       "      <th>y-4</th>\n",
       "      <th>y-5</th>\n",
       "      <th>y-6</th>\n",
       "      <th>y-7</th>\n",
       "      <th>y-8</th>\n",
       "      <th>...</th>\n",
       "      <th>hour_of_day_21</th>\n",
       "      <th>hour_of_day_22</th>\n",
       "      <th>hour_of_day_23</th>\n",
       "      <th>mv_6</th>\n",
       "      <th>mv_9</th>\n",
       "      <th>mv_12</th>\n",
       "      <th>mv_15</th>\n",
       "      <th>mv_18</th>\n",
       "      <th>mv_21</th>\n",
       "      <th>mv_24</th>\n",
       "    </tr>\n",
       "  </thead>\n",
       "  <tbody>\n",
       "    <tr>\n",
       "      <th>4</th>\n",
       "      <td>2020-06-25 13:00:00</td>\n",
       "      <td>73</td>\n",
       "      <td>67.0</td>\n",
       "      <td>66.0</td>\n",
       "      <td>67.0</td>\n",
       "      <td>66.0</td>\n",
       "      <td>67.0</td>\n",
       "      <td>70.0</td>\n",
       "      <td>73.0</td>\n",
       "      <td>79.0</td>\n",
       "      <td>...</td>\n",
       "      <td>False</td>\n",
       "      <td>False</td>\n",
       "      <td>False</td>\n",
       "      <td>66.722222</td>\n",
       "      <td>69.68</td>\n",
       "      <td>75.402778</td>\n",
       "      <td>83.015625</td>\n",
       "      <td>89.567901</td>\n",
       "      <td>94.000000</td>\n",
       "      <td>96.479167</td>\n",
       "    </tr>\n",
       "    <tr>\n",
       "      <th>3</th>\n",
       "      <td>2020-06-25 14:00:00</td>\n",
       "      <td>82</td>\n",
       "      <td>73.0</td>\n",
       "      <td>67.0</td>\n",
       "      <td>66.0</td>\n",
       "      <td>67.0</td>\n",
       "      <td>66.0</td>\n",
       "      <td>67.0</td>\n",
       "      <td>70.0</td>\n",
       "      <td>73.0</td>\n",
       "      <td>...</td>\n",
       "      <td>False</td>\n",
       "      <td>False</td>\n",
       "      <td>False</td>\n",
       "      <td>66.888889</td>\n",
       "      <td>68.24</td>\n",
       "      <td>72.180556</td>\n",
       "      <td>79.109375</td>\n",
       "      <td>85.598765</td>\n",
       "      <td>91.008264</td>\n",
       "      <td>94.454861</td>\n",
       "    </tr>\n",
       "    <tr>\n",
       "      <th>2</th>\n",
       "      <td>2020-06-25 15:00:00</td>\n",
       "      <td>74</td>\n",
       "      <td>82.0</td>\n",
       "      <td>73.0</td>\n",
       "      <td>67.0</td>\n",
       "      <td>66.0</td>\n",
       "      <td>67.0</td>\n",
       "      <td>66.0</td>\n",
       "      <td>67.0</td>\n",
       "      <td>70.0</td>\n",
       "      <td>...</td>\n",
       "      <td>False</td>\n",
       "      <td>False</td>\n",
       "      <td>False</td>\n",
       "      <td>68.500000</td>\n",
       "      <td>68.24</td>\n",
       "      <td>70.166667</td>\n",
       "      <td>76.000000</td>\n",
       "      <td>81.901235</td>\n",
       "      <td>87.925620</td>\n",
       "      <td>92.052083</td>\n",
       "    </tr>\n",
       "    <tr>\n",
       "      <th>1</th>\n",
       "      <td>2020-06-25 16:00:00</td>\n",
       "      <td>99</td>\n",
       "      <td>74.0</td>\n",
       "      <td>82.0</td>\n",
       "      <td>73.0</td>\n",
       "      <td>67.0</td>\n",
       "      <td>66.0</td>\n",
       "      <td>67.0</td>\n",
       "      <td>66.0</td>\n",
       "      <td>67.0</td>\n",
       "      <td>...</td>\n",
       "      <td>False</td>\n",
       "      <td>False</td>\n",
       "      <td>False</td>\n",
       "      <td>71.388889</td>\n",
       "      <td>69.00</td>\n",
       "      <td>69.333333</td>\n",
       "      <td>73.609375</td>\n",
       "      <td>78.679012</td>\n",
       "      <td>84.851240</td>\n",
       "      <td>89.409722</td>\n",
       "    </tr>\n",
       "    <tr>\n",
       "      <th>0</th>\n",
       "      <td>2020-06-25 17:00:00</td>\n",
       "      <td>103</td>\n",
       "      <td>99.0</td>\n",
       "      <td>74.0</td>\n",
       "      <td>82.0</td>\n",
       "      <td>73.0</td>\n",
       "      <td>67.0</td>\n",
       "      <td>66.0</td>\n",
       "      <td>67.0</td>\n",
       "      <td>66.0</td>\n",
       "      <td>...</td>\n",
       "      <td>False</td>\n",
       "      <td>False</td>\n",
       "      <td>False</td>\n",
       "      <td>75.722222</td>\n",
       "      <td>71.36</td>\n",
       "      <td>69.708333</td>\n",
       "      <td>72.343750</td>\n",
       "      <td>76.172840</td>\n",
       "      <td>82.140496</td>\n",
       "      <td>86.750000</td>\n",
       "    </tr>\n",
       "  </tbody>\n",
       "</table>\n",
       "<p>5 rows × 130 columns</p>\n",
       "</div>"
      ],
      "text/plain": [
       "                 date    y   y-1   y-2   y-3   y-4   y-5   y-6   y-7   y-8  \\\n",
       "4 2020-06-25 13:00:00   73  67.0  66.0  67.0  66.0  67.0  70.0  73.0  79.0   \n",
       "3 2020-06-25 14:00:00   82  73.0  67.0  66.0  67.0  66.0  67.0  70.0  73.0   \n",
       "2 2020-06-25 15:00:00   74  82.0  73.0  67.0  66.0  67.0  66.0  67.0  70.0   \n",
       "1 2020-06-25 16:00:00   99  74.0  82.0  73.0  67.0  66.0  67.0  66.0  67.0   \n",
       "0 2020-06-25 17:00:00  103  99.0  74.0  82.0  73.0  67.0  66.0  67.0  66.0   \n",
       "\n",
       "   ...  hour_of_day_21  hour_of_day_22  hour_of_day_23       mv_6   mv_9  \\\n",
       "4  ...           False           False           False  66.722222  69.68   \n",
       "3  ...           False           False           False  66.888889  68.24   \n",
       "2  ...           False           False           False  68.500000  68.24   \n",
       "1  ...           False           False           False  71.388889  69.00   \n",
       "0  ...           False           False           False  75.722222  71.36   \n",
       "\n",
       "       mv_12      mv_15      mv_18      mv_21      mv_24  \n",
       "4  75.402778  83.015625  89.567901  94.000000  96.479167  \n",
       "3  72.180556  79.109375  85.598765  91.008264  94.454861  \n",
       "2  70.166667  76.000000  81.901235  87.925620  92.052083  \n",
       "1  69.333333  73.609375  78.679012  84.851240  89.409722  \n",
       "0  69.708333  72.343750  76.172840  82.140496  86.750000  \n",
       "\n",
       "[5 rows x 130 columns]"
      ]
     },
     "execution_count": 17,
     "metadata": {},
     "output_type": "execute_result"
    }
   ],
   "source": [
    "def roll_mean_features(df, windows):\n",
    "    df = df.copy()\n",
    "    for window in windows:\n",
    "        df['mv_' + str(window)] = df['y'].transform(\n",
    "            lambda x: x.shift(1).rolling(window=window, min_periods=5, win_type=\"triang\").mean())\n",
    "    return df\n",
    "df = roll_mean_features(df, [6, 9, 12, 15, 18, 21, 24])\n",
    "df.tail()"
   ]
  },
  {
   "cell_type": "code",
   "execution_count": 18,
   "metadata": {
    "colab": {
     "base_uri": "https://localhost:8080/",
     "height": 204
    },
    "executionInfo": {
     "elapsed": 279,
     "status": "ok",
     "timestamp": 1705699886365,
     "user": {
      "displayName": "Dr. Dataman",
      "userId": "14648496304343042559"
     },
     "user_tz": 300
    },
    "id": "a4l7ZcXtFg7W",
    "outputId": "41965ae6-a7a0-4d81-d346-1b11526c778d"
   },
   "outputs": [
    {
     "data": {
      "text/html": [
       "<div>\n",
       "<style scoped>\n",
       "    .dataframe tbody tr th:only-of-type {\n",
       "        vertical-align: middle;\n",
       "    }\n",
       "\n",
       "    .dataframe tbody tr th {\n",
       "        vertical-align: top;\n",
       "    }\n",
       "\n",
       "    .dataframe thead th {\n",
       "        text-align: right;\n",
       "    }\n",
       "</style>\n",
       "<table border=\"1\" class=\"dataframe\">\n",
       "  <thead>\n",
       "    <tr style=\"text-align: right;\">\n",
       "      <th></th>\n",
       "      <th>date</th>\n",
       "      <th>mv_6</th>\n",
       "      <th>mv_9</th>\n",
       "      <th>mv_12</th>\n",
       "      <th>mv_15</th>\n",
       "      <th>mv_18</th>\n",
       "      <th>mv_21</th>\n",
       "      <th>mv_24</th>\n",
       "    </tr>\n",
       "  </thead>\n",
       "  <tbody>\n",
       "    <tr>\n",
       "      <th>4</th>\n",
       "      <td>2020-06-25 13:00:00</td>\n",
       "      <td>66.722222</td>\n",
       "      <td>69.68</td>\n",
       "      <td>75.402778</td>\n",
       "      <td>83.015625</td>\n",
       "      <td>89.567901</td>\n",
       "      <td>94.000000</td>\n",
       "      <td>96.479167</td>\n",
       "    </tr>\n",
       "    <tr>\n",
       "      <th>3</th>\n",
       "      <td>2020-06-25 14:00:00</td>\n",
       "      <td>66.888889</td>\n",
       "      <td>68.24</td>\n",
       "      <td>72.180556</td>\n",
       "      <td>79.109375</td>\n",
       "      <td>85.598765</td>\n",
       "      <td>91.008264</td>\n",
       "      <td>94.454861</td>\n",
       "    </tr>\n",
       "    <tr>\n",
       "      <th>2</th>\n",
       "      <td>2020-06-25 15:00:00</td>\n",
       "      <td>68.500000</td>\n",
       "      <td>68.24</td>\n",
       "      <td>70.166667</td>\n",
       "      <td>76.000000</td>\n",
       "      <td>81.901235</td>\n",
       "      <td>87.925620</td>\n",
       "      <td>92.052083</td>\n",
       "    </tr>\n",
       "    <tr>\n",
       "      <th>1</th>\n",
       "      <td>2020-06-25 16:00:00</td>\n",
       "      <td>71.388889</td>\n",
       "      <td>69.00</td>\n",
       "      <td>69.333333</td>\n",
       "      <td>73.609375</td>\n",
       "      <td>78.679012</td>\n",
       "      <td>84.851240</td>\n",
       "      <td>89.409722</td>\n",
       "    </tr>\n",
       "    <tr>\n",
       "      <th>0</th>\n",
       "      <td>2020-06-25 17:00:00</td>\n",
       "      <td>75.722222</td>\n",
       "      <td>71.36</td>\n",
       "      <td>69.708333</td>\n",
       "      <td>72.343750</td>\n",
       "      <td>76.172840</td>\n",
       "      <td>82.140496</td>\n",
       "      <td>86.750000</td>\n",
       "    </tr>\n",
       "  </tbody>\n",
       "</table>\n",
       "</div>"
      ],
      "text/plain": [
       "                 date       mv_6   mv_9      mv_12      mv_15      mv_18  \\\n",
       "4 2020-06-25 13:00:00  66.722222  69.68  75.402778  83.015625  89.567901   \n",
       "3 2020-06-25 14:00:00  66.888889  68.24  72.180556  79.109375  85.598765   \n",
       "2 2020-06-25 15:00:00  68.500000  68.24  70.166667  76.000000  81.901235   \n",
       "1 2020-06-25 16:00:00  71.388889  69.00  69.333333  73.609375  78.679012   \n",
       "0 2020-06-25 17:00:00  75.722222  71.36  69.708333  72.343750  76.172840   \n",
       "\n",
       "       mv_21      mv_24  \n",
       "4  94.000000  96.479167  \n",
       "3  91.008264  94.454861  \n",
       "2  87.925620  92.052083  \n",
       "1  84.851240  89.409722  \n",
       "0  82.140496  86.750000  "
      ]
     },
     "execution_count": 18,
     "metadata": {},
     "output_type": "execute_result"
    }
   ],
   "source": [
    "df[['date','mv_6','mv_9','mv_12','mv_15','mv_18', 'mv_21', 'mv_24']].tail()"
   ]
  },
  {
   "cell_type": "code",
   "execution_count": 19,
   "metadata": {
    "colab": {
     "base_uri": "https://localhost:8080/"
    },
    "executionInfo": {
     "elapsed": 10,
     "status": "ok",
     "timestamp": 1705698704448,
     "user": {
      "displayName": "Dr. Dataman",
      "userId": "14648496304343042559"
     },
     "user_tz": 300
    },
    "id": "VtG1YvSmlzl2",
    "outputId": "cb8d0385-d635-4814-a66e-291795a67507"
   },
   "outputs": [
    {
     "data": {
      "text/plain": [
       "Index(['date', 'y', 'y-1', 'y-2', 'y-3', 'y-4', 'y-5', 'y-6', 'y-7', 'y-8',\n",
       "       ...\n",
       "       'hour_of_day_21', 'hour_of_day_22', 'hour_of_day_23', 'mv_6', 'mv_9',\n",
       "       'mv_12', 'mv_15', 'mv_18', 'mv_21', 'mv_24'],\n",
       "      dtype='object', length=130)"
      ]
     },
     "execution_count": 19,
     "metadata": {},
     "output_type": "execute_result"
    }
   ],
   "source": [
    "df.columns"
   ]
  },
  {
   "cell_type": "markdown",
   "metadata": {},
   "source": [
    "## Mac M1 users please use Google Colab. LightGBM does not work on Mac M1."
   ]
  },
  {
   "cell_type": "markdown",
   "metadata": {
    "id": "qpYS7sA-qy-y"
   },
   "source": [
    "## (2) lightGBM\n",
    "### (2.1) Train-test split"
   ]
  },
  {
   "cell_type": "code",
   "execution_count": 22,
   "metadata": {
    "id": "WXaxjw4btQXi"
   },
   "outputs": [],
   "source": [
    "from datetime import timedelta\n",
    "num_days = (df['date'].max() - df['date'].min()).days\n",
    "oot = num_days*0.2 # reserve 20% for out-of-time\n",
    "cutdate = df['date'].max() - timedelta(days = oot)"
   ]
  },
  {
   "cell_type": "code",
   "execution_count": 23,
   "metadata": {
    "colab": {
     "base_uri": "https://localhost:8080/"
    },
    "executionInfo": {
     "elapsed": 228,
     "status": "ok",
     "timestamp": 1705698707253,
     "user": {
      "displayName": "Dr. Dataman",
      "userId": "14648496304343042559"
     },
     "user_tz": 300
    },
    "id": "m_awSX4MrFmA",
    "outputId": "34bafde1-faa6-4567-f397-2c834b727d76"
   },
   "outputs": [
    {
     "name": "stdout",
     "output_type": "stream",
     "text": [
      "Training data: from 2017-12-11 00:00:00 to 2019-12-23 07:00:00\n",
      "Test data: from 2019-12-23 08:00:00 to 2020-06-25 17:00:00\n"
     ]
    }
   ],
   "source": [
    "train = df.loc[(df['date'] <= cutdate), :]\n",
    "print(\"Training data: from\", train['date'].min(),\"to\", train['date'].max() )\n",
    "\n",
    "test = df.loc[(df['date'] > cutdate), :]\n",
    "print(\"Test data: from\", test['date'].min(), \"to\", test['date'].max() )"
   ]
  },
  {
   "cell_type": "code",
   "execution_count": 24,
   "metadata": {
    "colab": {
     "base_uri": "https://localhost:8080/",
     "height": 233
    },
    "executionInfo": {
     "elapsed": 572,
     "status": "ok",
     "timestamp": 1705698708307,
     "user": {
      "displayName": "Dr. Dataman",
      "userId": "14648496304343042559"
     },
     "user_tz": 300
    },
    "id": "_GZ50jw_swnd",
    "outputId": "0bab4d07-de15-4c8e-9af6-67daeb2650d0"
   },
   "outputs": [
    {
     "data": {
      "text/html": [
       "<div>\n",
       "<style scoped>\n",
       "    .dataframe tbody tr th:only-of-type {\n",
       "        vertical-align: middle;\n",
       "    }\n",
       "\n",
       "    .dataframe tbody tr th {\n",
       "        vertical-align: top;\n",
       "    }\n",
       "\n",
       "    .dataframe thead th {\n",
       "        text-align: right;\n",
       "    }\n",
       "</style>\n",
       "<table border=\"1\" class=\"dataframe\">\n",
       "  <thead>\n",
       "    <tr style=\"text-align: right;\">\n",
       "      <th></th>\n",
       "      <th>date</th>\n",
       "      <th>y</th>\n",
       "      <th>y-1</th>\n",
       "      <th>y-2</th>\n",
       "      <th>y-3</th>\n",
       "      <th>y-4</th>\n",
       "      <th>y-5</th>\n",
       "      <th>y-6</th>\n",
       "      <th>y-7</th>\n",
       "      <th>y-8</th>\n",
       "      <th>...</th>\n",
       "      <th>hour_of_day_21</th>\n",
       "      <th>hour_of_day_22</th>\n",
       "      <th>hour_of_day_23</th>\n",
       "      <th>mv_6</th>\n",
       "      <th>mv_9</th>\n",
       "      <th>mv_12</th>\n",
       "      <th>mv_15</th>\n",
       "      <th>mv_18</th>\n",
       "      <th>mv_21</th>\n",
       "      <th>mv_24</th>\n",
       "    </tr>\n",
       "  </thead>\n",
       "  <tbody>\n",
       "    <tr>\n",
       "      <th>4431</th>\n",
       "      <td>2019-12-23 03:00:00</td>\n",
       "      <td>65</td>\n",
       "      <td>67.0</td>\n",
       "      <td>67.0</td>\n",
       "      <td>66.0</td>\n",
       "      <td>62.0</td>\n",
       "      <td>59.0</td>\n",
       "      <td>59.0</td>\n",
       "      <td>60.0</td>\n",
       "      <td>59.0</td>\n",
       "      <td>...</td>\n",
       "      <td>False</td>\n",
       "      <td>False</td>\n",
       "      <td>False</td>\n",
       "      <td>63.555556</td>\n",
       "      <td>61.40</td>\n",
       "      <td>60.361111</td>\n",
       "      <td>58.562500</td>\n",
       "      <td>56.154321</td>\n",
       "      <td>53.776860</td>\n",
       "      <td>52.222222</td>\n",
       "    </tr>\n",
       "    <tr>\n",
       "      <th>4430</th>\n",
       "      <td>2019-12-23 04:00:00</td>\n",
       "      <td>62</td>\n",
       "      <td>65.0</td>\n",
       "      <td>67.0</td>\n",
       "      <td>67.0</td>\n",
       "      <td>66.0</td>\n",
       "      <td>62.0</td>\n",
       "      <td>59.0</td>\n",
       "      <td>59.0</td>\n",
       "      <td>60.0</td>\n",
       "      <td>...</td>\n",
       "      <td>False</td>\n",
       "      <td>False</td>\n",
       "      <td>False</td>\n",
       "      <td>65.333333</td>\n",
       "      <td>62.64</td>\n",
       "      <td>61.194444</td>\n",
       "      <td>59.781250</td>\n",
       "      <td>57.604938</td>\n",
       "      <td>55.148760</td>\n",
       "      <td>53.322917</td>\n",
       "    </tr>\n",
       "    <tr>\n",
       "      <th>4429</th>\n",
       "      <td>2019-12-23 05:00:00</td>\n",
       "      <td>56</td>\n",
       "      <td>62.0</td>\n",
       "      <td>65.0</td>\n",
       "      <td>67.0</td>\n",
       "      <td>67.0</td>\n",
       "      <td>66.0</td>\n",
       "      <td>62.0</td>\n",
       "      <td>59.0</td>\n",
       "      <td>59.0</td>\n",
       "      <td>...</td>\n",
       "      <td>False</td>\n",
       "      <td>False</td>\n",
       "      <td>False</td>\n",
       "      <td>65.944444</td>\n",
       "      <td>63.76</td>\n",
       "      <td>62.069444</td>\n",
       "      <td>60.765625</td>\n",
       "      <td>58.901235</td>\n",
       "      <td>56.462810</td>\n",
       "      <td>54.506944</td>\n",
       "    </tr>\n",
       "    <tr>\n",
       "      <th>4428</th>\n",
       "      <td>2019-12-23 06:00:00</td>\n",
       "      <td>50</td>\n",
       "      <td>56.0</td>\n",
       "      <td>62.0</td>\n",
       "      <td>65.0</td>\n",
       "      <td>67.0</td>\n",
       "      <td>67.0</td>\n",
       "      <td>66.0</td>\n",
       "      <td>62.0</td>\n",
       "      <td>59.0</td>\n",
       "      <td>...</td>\n",
       "      <td>False</td>\n",
       "      <td>False</td>\n",
       "      <td>False</td>\n",
       "      <td>64.944444</td>\n",
       "      <td>64.20</td>\n",
       "      <td>62.875000</td>\n",
       "      <td>61.484375</td>\n",
       "      <td>59.975309</td>\n",
       "      <td>57.652893</td>\n",
       "      <td>55.673611</td>\n",
       "    </tr>\n",
       "    <tr>\n",
       "      <th>4427</th>\n",
       "      <td>2019-12-23 07:00:00</td>\n",
       "      <td>46</td>\n",
       "      <td>50.0</td>\n",
       "      <td>56.0</td>\n",
       "      <td>62.0</td>\n",
       "      <td>65.0</td>\n",
       "      <td>67.0</td>\n",
       "      <td>67.0</td>\n",
       "      <td>66.0</td>\n",
       "      <td>62.0</td>\n",
       "      <td>...</td>\n",
       "      <td>False</td>\n",
       "      <td>False</td>\n",
       "      <td>False</td>\n",
       "      <td>62.277778</td>\n",
       "      <td>63.68</td>\n",
       "      <td>63.250000</td>\n",
       "      <td>61.906250</td>\n",
       "      <td>60.759259</td>\n",
       "      <td>58.644628</td>\n",
       "      <td>56.753472</td>\n",
       "    </tr>\n",
       "  </tbody>\n",
       "</table>\n",
       "<p>5 rows × 130 columns</p>\n",
       "</div>"
      ],
      "text/plain": [
       "                    date   y   y-1   y-2   y-3   y-4   y-5   y-6   y-7   y-8  \\\n",
       "4431 2019-12-23 03:00:00  65  67.0  67.0  66.0  62.0  59.0  59.0  60.0  59.0   \n",
       "4430 2019-12-23 04:00:00  62  65.0  67.0  67.0  66.0  62.0  59.0  59.0  60.0   \n",
       "4429 2019-12-23 05:00:00  56  62.0  65.0  67.0  67.0  66.0  62.0  59.0  59.0   \n",
       "4428 2019-12-23 06:00:00  50  56.0  62.0  65.0  67.0  67.0  66.0  62.0  59.0   \n",
       "4427 2019-12-23 07:00:00  46  50.0  56.0  62.0  65.0  67.0  67.0  66.0  62.0   \n",
       "\n",
       "      ...  hour_of_day_21  hour_of_day_22  hour_of_day_23       mv_6   mv_9  \\\n",
       "4431  ...           False           False           False  63.555556  61.40   \n",
       "4430  ...           False           False           False  65.333333  62.64   \n",
       "4429  ...           False           False           False  65.944444  63.76   \n",
       "4428  ...           False           False           False  64.944444  64.20   \n",
       "4427  ...           False           False           False  62.277778  63.68   \n",
       "\n",
       "          mv_12      mv_15      mv_18      mv_21      mv_24  \n",
       "4431  60.361111  58.562500  56.154321  53.776860  52.222222  \n",
       "4430  61.194444  59.781250  57.604938  55.148760  53.322917  \n",
       "4429  62.069444  60.765625  58.901235  56.462810  54.506944  \n",
       "4428  62.875000  61.484375  59.975309  57.652893  55.673611  \n",
       "4427  63.250000  61.906250  60.759259  58.644628  56.753472  \n",
       "\n",
       "[5 rows x 130 columns]"
      ]
     },
     "execution_count": 24,
     "metadata": {},
     "output_type": "execute_result"
    }
   ],
   "source": [
    "train.tail()"
   ]
  },
  {
   "cell_type": "markdown",
   "metadata": {
    "id": "lvHUsCJovKKD"
   },
   "source": [
    "### (2.2) Modeling"
   ]
  },
  {
   "cell_type": "code",
   "execution_count": 25,
   "metadata": {
    "id": "hNG6N9K3s5aN"
   },
   "outputs": [],
   "source": [
    "lgb_params = {'metric': {'mae'},\n",
    "              'num_leaves': 10,\n",
    "              'learning_rate': 0.02,\n",
    "              'feature_fraction': 0.8,\n",
    "              'max_depth': 5,\n",
    "              'verbose': 0,\n",
    "              'num_boost_round': 15000,\n",
    "              'early_stopping_rounds': 200,\n",
    "              'nthread': -1}"
   ]
  },
  {
   "cell_type": "code",
   "execution_count": 26,
   "metadata": {
    "id": "133w5zxbvtx4"
   },
   "outputs": [],
   "source": [
    "cols = [col for col in train.columns if col not in ['date', 'y']]\n",
    "Y_train = train['y']\n",
    "X_train = train[cols]\n",
    "Y_test = test['y']\n",
    "X_test = test[cols]"
   ]
  },
  {
   "cell_type": "code",
   "execution_count": 27,
   "metadata": {
    "colab": {
     "base_uri": "https://localhost:8080/"
    },
    "executionInfo": {
     "elapsed": 192,
     "status": "ok",
     "timestamp": 1705698711652,
     "user": {
      "displayName": "Dr. Dataman",
      "userId": "14648496304343042559"
     },
     "user_tz": 300
    },
    "id": "2e5k4ETfirdR",
    "outputId": "188fed0c-60ba-4cfc-8471-4f35f0ffbd76"
   },
   "outputs": [
    {
     "data": {
      "text/plain": [
       "Index([], dtype='object')"
      ]
     },
     "execution_count": 27,
     "metadata": {},
     "output_type": "execute_result"
    }
   ],
   "source": [
    "X_train.columns[160:200]"
   ]
  },
  {
   "cell_type": "code",
   "execution_count": 28,
   "metadata": {
    "id": "aAA4RnBmvN0P"
   },
   "outputs": [
    {
     "ename": "ModuleNotFoundError",
     "evalue": "No module named 'lightgbm'",
     "output_type": "error",
     "traceback": [
      "\u001b[0;31m---------------------------------------------------------------------------\u001b[0m",
      "\u001b[0;31mModuleNotFoundError\u001b[0m                       Traceback (most recent call last)",
      "Cell \u001b[0;32mIn[28], line 1\u001b[0m\n\u001b[0;32m----> 1\u001b[0m \u001b[38;5;28;01mimport\u001b[39;00m \u001b[38;5;21;01mlightgbm\u001b[39;00m \u001b[38;5;28;01mas\u001b[39;00m \u001b[38;5;21;01mlgb\u001b[39;00m\n\u001b[1;32m      2\u001b[0m lgbtrain \u001b[38;5;241m=\u001b[39m lgb\u001b[38;5;241m.\u001b[39mDataset(data\u001b[38;5;241m=\u001b[39mX_train, label\u001b[38;5;241m=\u001b[39mY_train, feature_name\u001b[38;5;241m=\u001b[39mcols)\n\u001b[1;32m      3\u001b[0m lgbtest \u001b[38;5;241m=\u001b[39m lgb\u001b[38;5;241m.\u001b[39mDataset(data\u001b[38;5;241m=\u001b[39mX_test, label\u001b[38;5;241m=\u001b[39mY_test, reference\u001b[38;5;241m=\u001b[39mlgbtrain, feature_name\u001b[38;5;241m=\u001b[39mcols)\n",
      "\u001b[0;31mModuleNotFoundError\u001b[0m: No module named 'lightgbm'"
     ]
    }
   ],
   "source": [
    "import lightgbm as lgb\n",
    "lgbtrain = lgb.Dataset(data=X_train, label=Y_train, feature_name=cols)\n",
    "lgbtest = lgb.Dataset(data=X_test, label=Y_test, reference=lgbtrain, feature_name=cols)"
   ]
  },
  {
   "cell_type": "code",
   "execution_count": null,
   "metadata": {
    "colab": {
     "base_uri": "https://localhost:8080/"
    },
    "executionInfo": {
     "elapsed": 14554,
     "status": "ok",
     "timestamp": 1705698727810,
     "user": {
      "displayName": "Dr. Dataman",
      "userId": "14648496304343042559"
     },
     "user_tz": 300
    },
    "id": "Dn_EWBEUviSl",
    "outputId": "88ff114d-0cca-42e7-a633-16778a9da66e"
   },
   "outputs": [
    {
     "name": "stderr",
     "output_type": "stream",
     "text": [
      "/usr/local/lib/python3.10/dist-packages/lightgbm/engine.py:172: UserWarning: Found `num_boost_round` in params. Will use it instead of argument\n",
      "  _log_warning(f\"Found `{alias}` in params. Will use it instead of argument\")\n"
     ]
    },
    {
     "name": "stdout",
     "output_type": "stream",
     "text": [
      "[LightGBM] [Warning] No further splits with positive gain, best gain: -inf\n",
      "[LightGBM] [Warning] No further splits with positive gain, best gain: -inf\n",
      "[LightGBM] [Warning] No further splits with positive gain, best gain: -inf\n",
      "[LightGBM] [Warning] No further splits with positive gain, best gain: -inf\n",
      "[LightGBM] [Warning] No further splits with positive gain, best gain: -inf\n",
      "[LightGBM] [Warning] No further splits with positive gain, best gain: -inf\n",
      "[LightGBM] [Warning] No further splits with positive gain, best gain: -inf\n",
      "[LightGBM] [Warning] No further splits with positive gain, best gain: -inf\n",
      "[LightGBM] [Warning] No further splits with positive gain, best gain: -inf\n",
      "[LightGBM] [Warning] No further splits with positive gain, best gain: -inf\n",
      "[LightGBM] [Warning] No further splits with positive gain, best gain: -inf\n",
      "[LightGBM] [Warning] No further splits with positive gain, best gain: -inf\n",
      "[LightGBM] [Warning] No further splits with positive gain, best gain: -inf\n",
      "[LightGBM] [Warning] No further splits with positive gain, best gain: -inf\n",
      "[LightGBM] [Warning] No further splits with positive gain, best gain: -inf\n",
      "[LightGBM] [Warning] No further splits with positive gain, best gain: -inf\n",
      "[LightGBM] [Warning] No further splits with positive gain, best gain: -inf\n",
      "[LightGBM] [Warning] No further splits with positive gain, best gain: -inf\n",
      "[LightGBM] [Warning] No further splits with positive gain, best gain: -inf\n",
      "[LightGBM] [Warning] No further splits with positive gain, best gain: -inf\n",
      "[LightGBM] [Warning] No further splits with positive gain, best gain: -inf\n",
      "[LightGBM] [Warning] No further splits with positive gain, best gain: -inf\n",
      "[LightGBM] [Warning] No further splits with positive gain, best gain: -inf\n",
      "[LightGBM] [Warning] No further splits with positive gain, best gain: -inf\n",
      "[LightGBM] [Warning] No further splits with positive gain, best gain: -inf\n",
      "[LightGBM] [Warning] No further splits with positive gain, best gain: -inf\n",
      "[LightGBM] [Warning] No further splits with positive gain, best gain: -inf\n",
      "[LightGBM] [Warning] No further splits with positive gain, best gain: -inf\n",
      "[LightGBM] [Warning] No further splits with positive gain, best gain: -inf\n",
      "[LightGBM] [Warning] No further splits with positive gain, best gain: -inf\n",
      "[LightGBM] [Warning] No further splits with positive gain, best gain: -inf\n",
      "[LightGBM] [Warning] No further splits with positive gain, best gain: -inf\n",
      "[LightGBM] [Warning] No further splits with positive gain, best gain: -inf\n",
      "[LightGBM] [Warning] No further splits with positive gain, best gain: -inf\n",
      "[LightGBM] [Warning] No further splits with positive gain, best gain: -inf\n",
      "[LightGBM] [Warning] No further splits with positive gain, best gain: -inf\n",
      "[LightGBM] [Warning] No further splits with positive gain, best gain: -inf\n",
      "[LightGBM] [Warning] No further splits with positive gain, best gain: -inf\n",
      "[LightGBM] [Warning] No further splits with positive gain, best gain: -inf\n",
      "[LightGBM] [Warning] No further splits with positive gain, best gain: -inf\n",
      "[LightGBM] [Warning] No further splits with positive gain, best gain: -inf\n",
      "[LightGBM] [Warning] No further splits with positive gain, best gain: -inf\n",
      "[LightGBM] [Warning] No further splits with positive gain, best gain: -inf\n"
     ]
    }
   ],
   "source": [
    "model = lgb.train(lgb_params, lgbtrain,\n",
    "                  valid_sets=[lgbtrain, lgbtest],\n",
    "                  num_boost_round=lgb_params['num_boost_round']\n",
    "                  )"
   ]
  },
  {
   "cell_type": "markdown",
   "metadata": {
    "id": "HQmWEfvVJMU2"
   },
   "source": [
    "### (2.3) Forecasting"
   ]
  },
  {
   "cell_type": "code",
   "execution_count": null,
   "metadata": {
    "colab": {
     "base_uri": "https://localhost:8080/"
    },
    "executionInfo": {
     "elapsed": 5010,
     "status": "ok",
     "timestamp": 1705700571536,
     "user": {
      "displayName": "Dr. Dataman",
      "userId": "14648496304343042559"
     },
     "user_tz": 300
    },
    "id": "_cz_7LIDwX_4",
    "outputId": "94709f35-8ce9-4a8d-cefc-af0171b16b2b"
   },
   "outputs": [
    {
     "data": {
      "text/plain": [
       "0.019042954742338802"
      ]
     },
     "execution_count": 296,
     "metadata": {},
     "output_type": "execute_result"
    }
   ],
   "source": [
    "from sklearn.metrics import mean_absolute_percentage_error\n",
    "y_pred_train = model.predict(X_train)\n",
    "y_pred_test = model.predict(X_test)\n",
    "mean_absolute_percentage_error(Y_test, y_pred_test)"
   ]
  },
  {
   "cell_type": "code",
   "execution_count": null,
   "metadata": {
    "colab": {
     "base_uri": "https://localhost:8080/"
    },
    "executionInfo": {
     "elapsed": 33,
     "status": "ok",
     "timestamp": 1705698731874,
     "user": {
      "displayName": "Dr. Dataman",
      "userId": "14648496304343042559"
     },
     "user_tz": 300
    },
    "id": "bHoeA78ZPuow",
    "outputId": "379e494d-5f7d-4c50-d158-0eb2a81d0756"
   },
   "outputs": [
    {
     "data": {
      "text/plain": [
       "(4427, 180)"
      ]
     },
     "execution_count": 283,
     "metadata": {},
     "output_type": "execute_result"
    }
   ],
   "source": [
    "X_test.shape"
   ]
  },
  {
   "cell_type": "code",
   "execution_count": null,
   "metadata": {
    "colab": {
     "base_uri": "https://localhost:8080/"
    },
    "executionInfo": {
     "elapsed": 31,
     "status": "ok",
     "timestamp": 1705698731874,
     "user": {
      "displayName": "Dr. Dataman",
      "userId": "14648496304343042559"
     },
     "user_tz": 300
    },
    "id": "o8yLRRnGP5FJ",
    "outputId": "c1354835-6e81-4448-9548-38e6cc345f2a"
   },
   "outputs": [
    {
     "data": {
      "text/plain": [
       "Index(['y-1', 'y-2', 'y-3', 'y-4', 'y-5', 'y-6', 'y-7', 'y-8', 'y-9', 'y-10',\n",
       "       'y-11', 'y-12', 'y-13', 'y-14', 'y-15', 'y-16', 'y-17', 'y-18', 'y-19',\n",
       "       'y-20', 'y-21', 'y-22', 'y-23', 'y-24', 'y-25', 'day_of_year',\n",
       "       'is_year_start', 'is_year_end', 'is_month_start', 'is_month_end'],\n",
       "      dtype='object')"
      ]
     },
     "execution_count": 284,
     "metadata": {},
     "output_type": "execute_result"
    }
   ],
   "source": [
    "X_train.columns[0:30]"
   ]
  },
  {
   "cell_type": "code",
   "execution_count": null,
   "metadata": {
    "colab": {
     "base_uri": "https://localhost:8080/"
    },
    "executionInfo": {
     "elapsed": 27,
     "status": "ok",
     "timestamp": 1705698731874,
     "user": {
      "displayName": "Dr. Dataman",
      "userId": "14648496304343042559"
     },
     "user_tz": 300
    },
    "id": "pbLUPB64NZVw",
    "outputId": "3a2ca96a-b1ba-44fc-f4ba-286e9cbdda67"
   },
   "outputs": [
    {
     "data": {
      "text/plain": [
       "[4427, 4427]"
      ]
     },
     "execution_count": 285,
     "metadata": {},
     "output_type": "execute_result"
    }
   ],
   "source": [
    "[len(Y_test), len(y_pred_test)]"
   ]
  },
  {
   "cell_type": "code",
   "execution_count": null,
   "metadata": {
    "colab": {
     "base_uri": "https://localhost:8080/"
    },
    "executionInfo": {
     "elapsed": 23,
     "status": "ok",
     "timestamp": 1705698731874,
     "user": {
      "displayName": "Dr. Dataman",
      "userId": "14648496304343042559"
     },
     "user_tz": 300
    },
    "id": "Bqg6yUqizAbh",
    "outputId": "f4a48810-fc5f-45ad-82ae-4c0c18c70d03"
   },
   "outputs": [
    {
     "name": "stdout",
     "output_type": "stream",
     "text": [
      "train:  [17774, 17774]\n",
      "test:  [4427, 4427]\n"
     ]
    }
   ],
   "source": [
    "print(\"train: \",[len(y_pred_train), len(Y_train)])\n",
    "print(\"test: \",[len(y_pred_test), len(Y_test)])"
   ]
  },
  {
   "cell_type": "code",
   "execution_count": null,
   "metadata": {
    "colab": {
     "base_uri": "https://localhost:8080/"
    },
    "executionInfo": {
     "elapsed": 20,
     "status": "ok",
     "timestamp": 1705698731874,
     "user": {
      "displayName": "Dr. Dataman",
      "userId": "14648496304343042559"
     },
     "user_tz": 300
    },
    "id": "PO98NRResY8b",
    "outputId": "f828e10b-a10e-49e5-c9ab-66563ee88add"
   },
   "outputs": [
    {
     "data": {
      "text/plain": [
       "[(17774, 183), (4427, 183)]"
      ]
     },
     "execution_count": 287,
     "metadata": {},
     "output_type": "execute_result"
    }
   ],
   "source": [
    "train_pred = train.copy()\n",
    "train_pred['y_pred_train'] = y_pred_train\n",
    "\n",
    "test_pred = test.copy()\n",
    "test_pred['y_pred_test'] = y_pred_test\n",
    "\n",
    "[train_pred.shape, test_pred.shape]"
   ]
  },
  {
   "cell_type": "code",
   "execution_count": null,
   "metadata": {
    "colab": {
     "base_uri": "https://localhost:8080/"
    },
    "executionInfo": {
     "elapsed": 16,
     "status": "ok",
     "timestamp": 1705698731874,
     "user": {
      "displayName": "Dr. Dataman",
      "userId": "14648496304343042559"
     },
     "user_tz": 300
    },
    "id": "DFEkH2XLzCgh",
    "outputId": "7a6b3e80-a5b1-48b7-b678-bd75c86b8ed7"
   },
   "outputs": [
    {
     "data": {
      "text/plain": [
       "(22201, 184)"
      ]
     },
     "execution_count": 288,
     "metadata": {},
     "output_type": "execute_result"
    }
   ],
   "source": [
    "actual_pred = pd.concat([train_pred, test_pred], axis=0)\n",
    "actual_pred.shape"
   ]
  },
  {
   "cell_type": "code",
   "execution_count": null,
   "metadata": {
    "colab": {
     "base_uri": "https://localhost:8080/",
     "height": 388
    },
    "executionInfo": {
     "elapsed": 351,
     "status": "ok",
     "timestamp": 1705698732213,
     "user": {
      "displayName": "Dr. Dataman",
      "userId": "14648496304343042559"
     },
     "user_tz": 300
    },
    "id": "qFlh6yiPCEm_",
    "outputId": "443e2d14-8ebd-4db6-dccf-6eeed0a73e31"
   },
   "outputs": [
    {
     "data": {
      "image/png": "[encoded data removed]",
      "text/plain": [
       "<Figure size 1000x400 with 1 Axes>"
      ]
     },
     "metadata": {},
     "output_type": "display_data"
    }
   ],
   "source": [
    "plt.figure(figsize=(10,4))\n",
    "plt.plot(actual_pred['date'], actual_pred[[\"y\",'y_pred_train', 'y_pred_test']])\n",
    "plt.xlabel(\"Date\")\n",
    "plt.ylabel(\"Actual vs. Predictions\")\n",
    "plt.show()"
   ]
  },
  {
   "cell_type": "markdown",
   "metadata": {
    "id": "Pv6kM9x_JPjY"
   },
   "source": [
    "### (2.4) Variable Explanations"
   ]
  },
  {
   "cell_type": "code",
   "execution_count": null,
   "metadata": {
    "colab": {
     "base_uri": "https://localhost:8080/",
     "height": 872
    },
    "executionInfo": {
     "elapsed": 1615,
     "status": "ok",
     "timestamp": 1705699331340,
     "user": {
      "displayName": "Dr. Dataman",
      "userId": "14648496304343042559"
     },
     "user_tz": 300
    },
    "id": "z25pVTtRBx2P",
    "outputId": "8c0c711f-1c5c-4a32-b9bd-ba6d11c537a0"
   },
   "outputs": [
    {
     "data": {
      "image/png": "[encoded data removed]",
      "text/plain": [
       "<Figure size 1000x1000 with 1 Axes>"
      ]
     },
     "metadata": {},
     "output_type": "display_data"
    }
   ],
   "source": [
    "lgb.plot_importance(model, max_num_features=20, figsize=(10, 10), importance_type=\"gain\")\n",
    "plt.show()"
   ]
  },
  {
   "cell_type": "code",
   "execution_count": null,
   "metadata": {
    "id": "0KHS_TGUgrew"
   },
   "outputs": [],
   "source": []
  }
 ],
 "metadata": {
  "colab": {
   "authorship_tag": "ABX9TyNYn5jYfCz+zHs497gZrBjW",
   "provenance": []
  },
  "kernelspec": {
   "display_name": "time_series",
   "language": "python",
   "name": "time_series"
  },
  "language_info": {
   "codemirror_mode": {
    "name": "ipython",
    "version": 3
   },
   "file_extension": ".py",
   "mimetype": "text/x-python",
   "name": "python",
   "nbconvert_exporter": "python",
   "pygments_lexer": "ipython3",
   "version": "3.11.8"
  }
 },
 "nbformat": 4,
 "nbformat_minor": 4
}
